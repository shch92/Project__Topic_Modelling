{
 "cells": [
  {
   "cell_type": "markdown",
   "metadata": {},
   "source": [
    "  <h1><center> Discussing the Covid19 Pandemic</center></h1> \n",
    " <h2><center>Data Loading, Cleaning and Exploratory Data Analysis </center></h2> \n",
    "\n",
    "\n",
    "**Student: Shreyas Chitransh     \n",
    "Course: BrainStation DataScience and AI Bootcamp  \n",
    "Project: Capstone\n",
    "Notebook: Part 1 of 4    \n",
    "Next Notebook: Part 2 - Tweet Exploratory Data Analysis**\n",
    "\n",
    "## Introduction\n",
    "\n",
    "The Covid19 pandemic swept across the world starting in March 2020 and continuing throughout the time this report was generated in June 2021.This is the first time that the world not only saw a lot of fear, grief and sadness but also some of the best solidarity amongst the global citizens. It would be fascinating to see what the masses were discussing during all this. This project will analyze Twitter data from the first major surge of global Covid19 cases, namely March/April 2020. It specifically aims to use Topic Modeling incorporating the Latent Dirichlet Allocation model, and generate a summary list of topics being discussed by the mass English speaking Twitter users.\n",
    "\n",
    "The dataset being utilized for the analysis was collected by <a href=\"https://www.kaggle.com/smid80\">Shane Smith</a> in March and April 2020 and can be found on <a href=\"https://www.kaggle.com/smid80/coronavirus-covid19-tweets-early-april\">here for early April</a> and <a href=\"https://www.kaggle.com/smid80/coronavirus-covid19-tweets-late-april\">here for late April</a> on kaggle. The collection, which started on 29th March 2020, consists of all Tweets from users who used the following hashtags: `#coronavirus`, `#coronavirusoutbreak`, `#coronavirusPandemic`, `#covid19`, `#covid_19`, `#epitwitter`, `#ihavecorona`. It should be noted that from 11 April onwards, two additional hashtags, namely `#StayHomeStaySafe`, `#TestTraceIsolate`, have also been added into the Tweet collection set. \n",
    "\n",
    "The report will start by [importing the dataset and exploring](#1) the basic characteristics of it. This will be followed by [cleaning the data](#2) which will primarily consist of removing/imputing duplicates and null values. The next step is to conduct an [Exploratory Data Analysis (EDA)](#3) to understand the final cleaned dataset. The EDA will assist with [creating a subset dataset](#11) that will be more manageable for our scope of the project. In part 2 of the project, a Tweet text EDA will be conducted which will further assist us in text preprocessing to build and enhance the models in parts 3 and 4.\n",
    "\n",
    "\n",
    "## Importing  <a id=\"1\"></a>\n",
    "\n",
    "The first step is to import all modules and libraries which will be used throughout this notebook."
   ]
  },
  {
   "cell_type": "code",
   "execution_count": 1,
   "metadata": {},
   "outputs": [],
   "source": [
    "# Import the relevant libraries and modules which will be utilized in the overall report\n",
    "import pandas as pd \n",
    "import numpy as np \n",
    "import matplotlib.pyplot as plt\n",
    "pd.set_option(\"display.max_colwidth\", 200)\n",
    "# Hide warnings that appear with logistic regression without updating Scikit-learn\n",
    "import warnings\n",
    "warnings.filterwarnings('ignore')"
   ]
  },
  {
   "cell_type": "markdown",
   "metadata": {},
   "source": [
    "The data will now be imported using a `for` loop. All the filenames are formatted in the same way throughout:\n",
    "\"{date} Coronavirus Tweets.csv\", where the different dates are the prefix. Hence, a list of the dates has been generated and used in the loop to import each file. The imported files are appended to an empty list called `df_list`."
   ]
  },
  {
   "cell_type": "code",
   "execution_count": 2,
   "metadata": {
    "scrolled": true
   },
   "outputs": [
    {
     "name": "stdout",
     "output_type": "stream",
     "text": [
      "data\\2020-03-29 Coronavirus Tweets.csv\n",
      "data\\2020-03-30 Coronavirus Tweets.csv\n",
      "data\\2020-03-31 Coronavirus Tweets.csv\n",
      "data\\2020-04-01 Coronavirus Tweets.csv\n",
      "data\\2020-04-02 Coronavirus Tweets.csv\n",
      "data\\2020-04-03 Coronavirus Tweets.csv\n",
      "data\\2020-04-04 Coronavirus Tweets.csv\n",
      "data\\2020-04-05 Coronavirus Tweets.csv\n",
      "data\\2020-04-06 Coronavirus Tweets.csv\n",
      "data\\2020-04-07 Coronavirus Tweets.csv\n",
      "data\\2020-04-08 Coronavirus Tweets.csv\n",
      "data\\2020-04-09 Coronavirus Tweets.csv\n",
      "data\\2020-04-10 Coronavirus Tweets.csv\n",
      "data\\2020-04-11 Coronavirus Tweets.csv\n",
      "data\\2020-04-12 Coronavirus Tweets.csv\n",
      "data\\2020-04-13 Coronavirus Tweets.csv\n",
      "data\\2020-04-14 Coronavirus Tweets.csv\n",
      "data\\2020-04-15 Coronavirus Tweets.csv\n",
      "data\\2020-04-16 Coronavirus Tweets.csv\n",
      "data\\2020-04-17 Coronavirus Tweets.csv\n",
      "data\\2020-04-18 Coronavirus Tweets.csv\n",
      "data\\2020-04-19 Coronavirus Tweets.csv\n",
      "data\\2020-04-20 Coronavirus Tweets.csv\n",
      "data\\2020-04-21 Coronavirus Tweets.csv\n",
      "data\\2020-04-22 Coronavirus Tweets.csv\n",
      "data\\2020-04-23 Coronavirus Tweets.csv\n",
      "data\\2020-04-24 Coronavirus Tweets.csv\n",
      "data\\2020-04-25 Coronavirus Tweets.csv\n",
      "data\\2020-04-26 Coronavirus Tweets.csv\n",
      "data\\2020-04-27 Coronavirus Tweets.csv\n",
      "data\\2020-04-28 Coronavirus Tweets.csv\n",
      "data\\2020-04-29 Coronavirus Tweets.csv\n",
      "data\\2020-04-30 Coronavirus Tweets.csv\n"
     ]
    }
   ],
   "source": [
    "#Import the files into a dataset using a for loop\n",
    "\n",
    "# List of all the dates for csv files\n",
    "dates = ['2020-03-29', '2020-03-30', '2020-03-31', '2020-04-01', '2020-04-02', '2020-04-03', '2020-04-04',\n",
    "         '2020-04-05', '2020-04-06', '2020-04-07', '2020-04-08', '2020-04-09', '2020-04-10', '2020-04-11',\n",
    "         '2020-04-12', '2020-04-13', '2020-04-14', '2020-04-15', '2020-04-16', '2020-04-17', '2020-04-18',\n",
    "         '2020-04-19', '2020-04-20', '2020-04-21', '2020-04-22', '2020-04-23', '2020-04-24', '2020-04-25',\n",
    "         '2020-04-26', '2020-04-27', '2020-04-28', '2020-04-29', '2020-04-30']\n",
    "\n",
    "# Initiate empty list where the imported data will be appended\n",
    "df_list = []\n",
    "\n",
    "# Generate and run the for loop to read in the files and append them to the empty list\n",
    "for date in dates:\n",
    "    print(fr'data\\{date} Coronavirus Tweets.csv')\n",
    "    read= pd.read_csv(fr'data\\{date} Coronavirus Tweets.csv')\n",
    "    df_list.append(read)"
   ]
  },
  {
   "cell_type": "markdown",
   "metadata": {},
   "source": [
    "Below the dataframe is being generated as a singular `complete_df` by concatenating the `df_list` which contains all the imported data from the files above."
   ]
  },
  {
   "cell_type": "code",
   "execution_count": 3,
   "metadata": {
    "scrolled": true
   },
   "outputs": [],
   "source": [
    "# generate a completed merged dataframe from the appended list of data by concatenating it\n",
    "complete_df = pd.concat(df_list)"
   ]
  },
  {
   "cell_type": "markdown",
   "metadata": {},
   "source": [
    "## Exploring the Dataset\n",
    "\n",
    "Broadly speaking this involves looking at the first few rows and the structure of the dataset, any summary statistics for the numerical columns and missing values in all columns and rows. The data structure can give information about the data types which might have to be changed or columns that need to be split or joined for more effective use.\n",
    "\n",
    "The broad exploration of the dataset will now be conducted by looking at the data and its structure. First, the `.head()` function will be used to look at the first few lines of the dataset."
   ]
  },
  {
   "cell_type": "code",
   "execution_count": 4,
   "metadata": {
    "scrolled": true
   },
   "outputs": [
    {
     "data": {
      "text/html": [
       "<div>\n",
       "<style scoped>\n",
       "    .dataframe tbody tr th:only-of-type {\n",
       "        vertical-align: middle;\n",
       "    }\n",
       "\n",
       "    .dataframe tbody tr th {\n",
       "        vertical-align: top;\n",
       "    }\n",
       "\n",
       "    .dataframe thead th {\n",
       "        text-align: right;\n",
       "    }\n",
       "</style>\n",
       "<table border=\"1\" class=\"dataframe\">\n",
       "  <thead>\n",
       "    <tr style=\"text-align: right;\">\n",
       "      <th></th>\n",
       "      <th>status_id</th>\n",
       "      <th>user_id</th>\n",
       "      <th>created_at</th>\n",
       "      <th>screen_name</th>\n",
       "      <th>text</th>\n",
       "      <th>source</th>\n",
       "      <th>reply_to_status_id</th>\n",
       "      <th>reply_to_user_id</th>\n",
       "      <th>reply_to_screen_name</th>\n",
       "      <th>is_quote</th>\n",
       "      <th>...</th>\n",
       "      <th>retweet_count</th>\n",
       "      <th>country_code</th>\n",
       "      <th>place_full_name</th>\n",
       "      <th>place_type</th>\n",
       "      <th>followers_count</th>\n",
       "      <th>friends_count</th>\n",
       "      <th>account_lang</th>\n",
       "      <th>account_created_at</th>\n",
       "      <th>verified</th>\n",
       "      <th>lang</th>\n",
       "    </tr>\n",
       "  </thead>\n",
       "  <tbody>\n",
       "    <tr>\n",
       "      <th>0</th>\n",
       "      <td>1244051646071611394</td>\n",
       "      <td>860252856829587457</td>\n",
       "      <td>2020-03-29T00:00:00Z</td>\n",
       "      <td>IMSS_SanLuis</td>\n",
       "      <td>Ante cualquier enfermedad respiratoria, no te automediques. #PrevenciónCoronavirus #Coronavirus #COVID19 https://t.co/IgB2izYi1p</td>\n",
       "      <td>TweetDeck</td>\n",
       "      <td>NaN</td>\n",
       "      <td>NaN</td>\n",
       "      <td>NaN</td>\n",
       "      <td>False</td>\n",
       "      <td>...</td>\n",
       "      <td>0</td>\n",
       "      <td>NaN</td>\n",
       "      <td>NaN</td>\n",
       "      <td>NaN</td>\n",
       "      <td>1008</td>\n",
       "      <td>41</td>\n",
       "      <td>NaN</td>\n",
       "      <td>2017-05-04T22:00:38Z</td>\n",
       "      <td>False</td>\n",
       "      <td>es</td>\n",
       "    </tr>\n",
       "    <tr>\n",
       "      <th>1</th>\n",
       "      <td>1244051645039706112</td>\n",
       "      <td>1125933654943895553</td>\n",
       "      <td>2020-03-29T00:00:00Z</td>\n",
       "      <td>intrac_ccs</td>\n",
       "      <td>#ATENCIÓN En el Terminal Nuevo Circo se implementan medidas como el uso de la mascarilla por parte de usuari@s y conductores que hacen vida en dichas instalaciones, parte de los esfuerzos unificad...</td>\n",
       "      <td>TweetDeck</td>\n",
       "      <td>NaN</td>\n",
       "      <td>NaN</td>\n",
       "      <td>NaN</td>\n",
       "      <td>False</td>\n",
       "      <td>...</td>\n",
       "      <td>1</td>\n",
       "      <td>NaN</td>\n",
       "      <td>NaN</td>\n",
       "      <td>NaN</td>\n",
       "      <td>90</td>\n",
       "      <td>316</td>\n",
       "      <td>NaN</td>\n",
       "      <td>2019-05-08T01:21:16Z</td>\n",
       "      <td>False</td>\n",
       "      <td>es</td>\n",
       "    </tr>\n",
       "    <tr>\n",
       "      <th>2</th>\n",
       "      <td>1244051645975191557</td>\n",
       "      <td>80943559</td>\n",
       "      <td>2020-03-29T00:00:00Z</td>\n",
       "      <td>rlieving</td>\n",
       "      <td>“People are just storing up. They are staying at home freezing things. I talk to dealers around the state and out of the area, they are all out of freezers,” said owner Frank Mertz.\\n\\nhttps://t.c...</td>\n",
       "      <td>TweetDeck</td>\n",
       "      <td>NaN</td>\n",
       "      <td>NaN</td>\n",
       "      <td>NaN</td>\n",
       "      <td>False</td>\n",
       "      <td>...</td>\n",
       "      <td>0</td>\n",
       "      <td>NaN</td>\n",
       "      <td>NaN</td>\n",
       "      <td>NaN</td>\n",
       "      <td>136</td>\n",
       "      <td>457</td>\n",
       "      <td>NaN</td>\n",
       "      <td>2009-10-08T21:06:08Z</td>\n",
       "      <td>False</td>\n",
       "      <td>en</td>\n",
       "    </tr>\n",
       "    <tr>\n",
       "      <th>3</th>\n",
       "      <td>1244051646750928897</td>\n",
       "      <td>817072420947247104</td>\n",
       "      <td>2020-03-29T00:00:00Z</td>\n",
       "      <td>Tu_IMSS_Coah</td>\n",
       "      <td>Si empezaste a trabajar, necesitas dar de alta a tus beneficiarios ante el #IMSS, ahora lo puedes hacer desde tu domicilio a través de internet y evita filas | #SanaDistancia\\n#QuédateEnCasa \\n#Co...</td>\n",
       "      <td>TweetDeck</td>\n",
       "      <td>NaN</td>\n",
       "      <td>NaN</td>\n",
       "      <td>NaN</td>\n",
       "      <td>False</td>\n",
       "      <td>...</td>\n",
       "      <td>0</td>\n",
       "      <td>NaN</td>\n",
       "      <td>NaN</td>\n",
       "      <td>NaN</td>\n",
       "      <td>1549</td>\n",
       "      <td>170</td>\n",
       "      <td>NaN</td>\n",
       "      <td>2017-01-05T18:17:00Z</td>\n",
       "      <td>False</td>\n",
       "      <td>es</td>\n",
       "    </tr>\n",
       "    <tr>\n",
       "      <th>4</th>\n",
       "      <td>1244051647032102914</td>\n",
       "      <td>788863557349670913</td>\n",
       "      <td>2020-03-29T00:00:00Z</td>\n",
       "      <td>Tabasco_IMSS</td>\n",
       "      <td>Una sociedad informada está mejor preparada ante el #Coronavirus #COVID19 ¡inscríbete! https://t.co/HhuRe1r7Wo</td>\n",
       "      <td>TweetDeck</td>\n",
       "      <td>NaN</td>\n",
       "      <td>NaN</td>\n",
       "      <td>NaN</td>\n",
       "      <td>False</td>\n",
       "      <td>...</td>\n",
       "      <td>0</td>\n",
       "      <td>NaN</td>\n",
       "      <td>NaN</td>\n",
       "      <td>NaN</td>\n",
       "      <td>868</td>\n",
       "      <td>125</td>\n",
       "      <td>NaN</td>\n",
       "      <td>2016-10-19T22:05:03Z</td>\n",
       "      <td>False</td>\n",
       "      <td>es</td>\n",
       "    </tr>\n",
       "  </tbody>\n",
       "</table>\n",
       "<p>5 rows × 22 columns</p>\n",
       "</div>"
      ],
      "text/plain": [
       "             status_id              user_id            created_at  \\\n",
       "0  1244051646071611394   860252856829587457  2020-03-29T00:00:00Z   \n",
       "1  1244051645039706112  1125933654943895553  2020-03-29T00:00:00Z   \n",
       "2  1244051645975191557             80943559  2020-03-29T00:00:00Z   \n",
       "3  1244051646750928897   817072420947247104  2020-03-29T00:00:00Z   \n",
       "4  1244051647032102914   788863557349670913  2020-03-29T00:00:00Z   \n",
       "\n",
       "    screen_name  \\\n",
       "0  IMSS_SanLuis   \n",
       "1    intrac_ccs   \n",
       "2      rlieving   \n",
       "3  Tu_IMSS_Coah   \n",
       "4  Tabasco_IMSS   \n",
       "\n",
       "                                                                                                                                                                                                      text  \\\n",
       "0                                                                         Ante cualquier enfermedad respiratoria, no te automediques. #PrevenciónCoronavirus #Coronavirus #COVID19 https://t.co/IgB2izYi1p   \n",
       "1  #ATENCIÓN En el Terminal Nuevo Circo se implementan medidas como el uso de la mascarilla por parte de usuari@s y conductores que hacen vida en dichas instalaciones, parte de los esfuerzos unificad...   \n",
       "2  “People are just storing up. They are staying at home freezing things. I talk to dealers around the state and out of the area, they are all out of freezers,” said owner Frank Mertz.\\n\\nhttps://t.c...   \n",
       "3  Si empezaste a trabajar, necesitas dar de alta a tus beneficiarios ante el #IMSS, ahora lo puedes hacer desde tu domicilio a través de internet y evita filas | #SanaDistancia\\n#QuédateEnCasa \\n#Co...   \n",
       "4                                                                                           Una sociedad informada está mejor preparada ante el #Coronavirus #COVID19 ¡inscríbete! https://t.co/HhuRe1r7Wo   \n",
       "\n",
       "      source  reply_to_status_id  reply_to_user_id reply_to_screen_name  \\\n",
       "0  TweetDeck                 NaN               NaN                  NaN   \n",
       "1  TweetDeck                 NaN               NaN                  NaN   \n",
       "2  TweetDeck                 NaN               NaN                  NaN   \n",
       "3  TweetDeck                 NaN               NaN                  NaN   \n",
       "4  TweetDeck                 NaN               NaN                  NaN   \n",
       "\n",
       "   is_quote  ...  retweet_count  country_code  place_full_name place_type  \\\n",
       "0     False  ...              0           NaN              NaN        NaN   \n",
       "1     False  ...              1           NaN              NaN        NaN   \n",
       "2     False  ...              0           NaN              NaN        NaN   \n",
       "3     False  ...              0           NaN              NaN        NaN   \n",
       "4     False  ...              0           NaN              NaN        NaN   \n",
       "\n",
       "  followers_count friends_count  account_lang    account_created_at  verified  \\\n",
       "0            1008            41           NaN  2017-05-04T22:00:38Z     False   \n",
       "1              90           316           NaN  2019-05-08T01:21:16Z     False   \n",
       "2             136           457           NaN  2009-10-08T21:06:08Z     False   \n",
       "3            1549           170           NaN  2017-01-05T18:17:00Z     False   \n",
       "4             868           125           NaN  2016-10-19T22:05:03Z     False   \n",
       "\n",
       "  lang  \n",
       "0   es  \n",
       "1   es  \n",
       "2   en  \n",
       "3   es  \n",
       "4   es  \n",
       "\n",
       "[5 rows x 22 columns]"
      ]
     },
     "execution_count": 4,
     "metadata": {},
     "output_type": "execute_result"
    }
   ],
   "source": [
    "# Visualize the first few rows of the dataframe\n",
    "complete_df.head()"
   ]
  },
  {
   "cell_type": "markdown",
   "metadata": {},
   "source": [
    "It is clear from the above dataframe that there are 22 columns in the dataset. Several of them contain missing values, represented as \"NaN\". \n",
    "\n",
    "### Dataframe Structure\n",
    "More exploration of the data is needed to identify the overall structure and data types for the columns in the dataset. First the index of the dataset will be reset to ensure proper continuity of index values. This is especially necessary because the data was concatenated from different files and any of them could have index value errors. "
   ]
  },
  {
   "cell_type": "code",
   "execution_count": 5,
   "metadata": {},
   "outputs": [],
   "source": [
    "# Resetting the index for the dataframe\n",
    "complete_df = complete_df.reset_index(drop = True)"
   ]
  },
  {
   "cell_type": "markdown",
   "metadata": {},
   "source": [
    "The `.info()` function will be used to confirm the success of index reset and get more insights on the dataframe structure.  "
   ]
  },
  {
   "cell_type": "code",
   "execution_count": 6,
   "metadata": {
    "scrolled": true
   },
   "outputs": [
    {
     "name": "stdout",
     "output_type": "stream",
     "text": [
      "<class 'pandas.core.frame.DataFrame'>\n",
      "RangeIndex: 14607013 entries, 0 to 14607012\n",
      "Data columns (total 22 columns):\n",
      " #   Column                Dtype  \n",
      "---  ------                -----  \n",
      " 0   status_id             int64  \n",
      " 1   user_id               int64  \n",
      " 2   created_at            object \n",
      " 3   screen_name           object \n",
      " 4   text                  object \n",
      " 5   source                object \n",
      " 6   reply_to_status_id    float64\n",
      " 7   reply_to_user_id      float64\n",
      " 8   reply_to_screen_name  object \n",
      " 9   is_quote              bool   \n",
      " 10  is_retweet            bool   \n",
      " 11  favourites_count      int64  \n",
      " 12  retweet_count         int64  \n",
      " 13  country_code          object \n",
      " 14  place_full_name       object \n",
      " 15  place_type            object \n",
      " 16  followers_count       int64  \n",
      " 17  friends_count         int64  \n",
      " 18  account_lang          float64\n",
      " 19  account_created_at    object \n",
      " 20  verified              bool   \n",
      " 21  lang                  object \n",
      "dtypes: bool(3), float64(3), int64(6), object(10)\n",
      "memory usage: 2.1+ GB\n"
     ]
    }
   ],
   "source": [
    "# Get a concise summary of the dataframe\n",
    "complete_df.info()"
   ]
  },
  {
   "cell_type": "markdown",
   "metadata": {},
   "source": [
    "The `complete_df` contains 22 columns and over 14.6 milllion rows which are properly indexed from 0 to 14,607,012. The data types for the columns consist of object, integer, float and boolean.\n",
    "\n",
    "### Data Dictionary <a id=\"10\"></a>\n",
    "The information that each column provides is generally taken from  <a href=\"https://support.birdiq.net/knowledge-base/twitter-tweet-columns/#:~:text=The%20unique%20identifier%20for%20this%20Tweet.&text=The%20actual%20text%20of%20the%20Tweet.&text=Utility%20(e.g.%2C%20iPhone%2C%20Android,used%20to%20post%20the%20Tweet.\">BirdIQ here </a> and is given below:\n",
    " - `status_id`: A unique identification number associated with the Tweet;\n",
    " - `user_id`: A unique identification number associated with the user generating the Tweet;\n",
    " - `created_at`: The date on which the Tweet was generated;\n",
    " - `screen_name`: The user name of the user generating the Tweet;\n",
    " - `text`: The actual text of the Tweet;\n",
    " - `source`: Utility (e.g. Web client etc.) used to post the Tweet;\n",
    " - `reply_to_status_id`: If the represented Tweet is a reply, this will contain the original Tweet’s ID;\n",
    " - `reply_to_user_id`: If the represented Tweet is a reply, this will contain the original Tweet’s author ID;\n",
    " - `reply_to_screen_name`: If the represented Tweet is a reply, this will contain the screen name of the original Tweet’s author;\n",
    " - `is_quote`: Indicates whether this Tweet is a quote or not;\n",
    " - `is_retweet`: Indicates whether this Tweet has been retweeted by the authenticating user;\n",
    " - `favourites_count`: Approximate number of times the original Tweet has a 'like' by a Twitter user;\n",
    " - `retweet_count`: The number of times this Tweet has been retweeted;\n",
    " - `country_code`: The shortened country code representing the country containing the place;\n",
    " - `place_full_name`: Short human-readable representation of the place’s name this Tweet is associated with but not necessarily originating from;\n",
    " - `place_type`: The type of location represented by this place;\n",
    " - `followers_count`: The number of 'followers' this account currently has;\n",
    " - `friends_count`: The number of users this account is following;\n",
    " - `account_lang`: The language code for the user’s self-declared user interface language;\n",
    " - `account_created_at`: The UTC date and time that the user account was created on Twitter;\n",
    " - `verified`: Whether an account of public interest is verified by Twitter to be authentic;\n",
    " - `lang`: Language identifier corresponding to the machine-detected language of the Tweet text.\n",
    "\n",
    "\n",
    "The columns were  compared to the output from the head() function to check whether the data types correspond correctly. The 3 columns given below seem to have an incorrect data type:\n",
    "-  The `created_at` column is `object` type but should be in the `datetime` dtype instead.  \n",
    "-  The `account_created_at` column is `object` type but should be in the `datetime` dtype instead.\n",
    "- The `account_lang` column is `float` type which does not seem correct, however all the visible values are null and cannot be verified just yet.\n",
    "\n",
    "<a id=\"7\"></a>\n",
    "This information will help to clean the data in the next section of the report. \n",
    "\n",
    "\n",
    " \n",
    "Below, the `.describe()` function will be used to look at the various summary statistics for the dataset. The method looks at any numerical columns and gives some summary statistics such as the mean, standard deviation (std) and inter-quartile range among others. These statistics can give a wholistic view of what's contained in each column.\n",
    " <a id=\"8\"></a>"
   ]
  },
  {
   "cell_type": "code",
   "execution_count": 7,
   "metadata": {
    "scrolled": false
   },
   "outputs": [
    {
     "data": {
      "text/html": [
       "<div>\n",
       "<style scoped>\n",
       "    .dataframe tbody tr th:only-of-type {\n",
       "        vertical-align: middle;\n",
       "    }\n",
       "\n",
       "    .dataframe tbody tr th {\n",
       "        vertical-align: top;\n",
       "    }\n",
       "\n",
       "    .dataframe thead th {\n",
       "        text-align: right;\n",
       "    }\n",
       "</style>\n",
       "<table border=\"1\" class=\"dataframe\">\n",
       "  <thead>\n",
       "    <tr style=\"text-align: right;\">\n",
       "      <th></th>\n",
       "      <th>status_id</th>\n",
       "      <th>user_id</th>\n",
       "      <th>reply_to_status_id</th>\n",
       "      <th>reply_to_user_id</th>\n",
       "      <th>favourites_count</th>\n",
       "      <th>retweet_count</th>\n",
       "      <th>followers_count</th>\n",
       "      <th>friends_count</th>\n",
       "      <th>account_lang</th>\n",
       "    </tr>\n",
       "  </thead>\n",
       "  <tbody>\n",
       "    <tr>\n",
       "      <th>count</th>\n",
       "      <td>1.460701e+07</td>\n",
       "      <td>1.460701e+07</td>\n",
       "      <td>1.745080e+06</td>\n",
       "      <td>2.111183e+06</td>\n",
       "      <td>1.460701e+07</td>\n",
       "      <td>1.460701e+07</td>\n",
       "      <td>1.460701e+07</td>\n",
       "      <td>1.460701e+07</td>\n",
       "      <td>0.0</td>\n",
       "    </tr>\n",
       "    <tr>\n",
       "      <th>mean</th>\n",
       "      <td>1.249520e+18</td>\n",
       "      <td>3.368818e+17</td>\n",
       "      <td>1.248857e+18</td>\n",
       "      <td>2.328203e+17</td>\n",
       "      <td>1.174802e+04</td>\n",
       "      <td>3.580968e+00</td>\n",
       "      <td>6.501909e+04</td>\n",
       "      <td>2.048379e+03</td>\n",
       "      <td>NaN</td>\n",
       "    </tr>\n",
       "    <tr>\n",
       "      <th>std</th>\n",
       "      <td>3.504127e+15</td>\n",
       "      <td>4.959153e+17</td>\n",
       "      <td>1.523071e+16</td>\n",
       "      <td>4.331340e+17</td>\n",
       "      <td>3.962682e+04</td>\n",
       "      <td>6.731740e+01</td>\n",
       "      <td>5.543002e+05</td>\n",
       "      <td>1.111902e+04</td>\n",
       "      <td>NaN</td>\n",
       "    </tr>\n",
       "    <tr>\n",
       "      <th>min</th>\n",
       "      <td>1.244052e+18</td>\n",
       "      <td>1.200000e+01</td>\n",
       "      <td>2.000000e+01</td>\n",
       "      <td>1.200000e+01</td>\n",
       "      <td>0.000000e+00</td>\n",
       "      <td>0.000000e+00</td>\n",
       "      <td>0.000000e+00</td>\n",
       "      <td>0.000000e+00</td>\n",
       "      <td>NaN</td>\n",
       "    </tr>\n",
       "    <tr>\n",
       "      <th>25%</th>\n",
       "      <td>1.246356e+18</td>\n",
       "      <td>1.673920e+08</td>\n",
       "      <td>1.246142e+18</td>\n",
       "      <td>5.098209e+07</td>\n",
       "      <td>2.110000e+02</td>\n",
       "      <td>0.000000e+00</td>\n",
       "      <td>1.490000e+02</td>\n",
       "      <td>1.510000e+02</td>\n",
       "      <td>NaN</td>\n",
       "    </tr>\n",
       "    <tr>\n",
       "      <th>50%</th>\n",
       "      <td>1.249251e+18</td>\n",
       "      <td>1.248759e+09</td>\n",
       "      <td>1.249004e+18</td>\n",
       "      <td>3.632403e+08</td>\n",
       "      <td>1.550000e+03</td>\n",
       "      <td>0.000000e+00</td>\n",
       "      <td>8.650000e+02</td>\n",
       "      <td>5.040000e+02</td>\n",
       "      <td>NaN</td>\n",
       "    </tr>\n",
       "    <tr>\n",
       "      <th>75%</th>\n",
       "      <td>1.252542e+18</td>\n",
       "      <td>8.758339e+17</td>\n",
       "      <td>1.252294e+18</td>\n",
       "      <td>3.502392e+09</td>\n",
       "      <td>7.645000e+03</td>\n",
       "      <td>1.000000e+00</td>\n",
       "      <td>4.783000e+03</td>\n",
       "      <td>1.449000e+03</td>\n",
       "      <td>NaN</td>\n",
       "    </tr>\n",
       "    <tr>\n",
       "      <th>max</th>\n",
       "      <td>1.256010e+18</td>\n",
       "      <td>1.256007e+18</td>\n",
       "      <td>1.256010e+18</td>\n",
       "      <td>1.255996e+18</td>\n",
       "      <td>1.995152e+06</td>\n",
       "      <td>5.132900e+04</td>\n",
       "      <td>8.374142e+07</td>\n",
       "      <td>2.129084e+06</td>\n",
       "      <td>NaN</td>\n",
       "    </tr>\n",
       "  </tbody>\n",
       "</table>\n",
       "</div>"
      ],
      "text/plain": [
       "          status_id       user_id  reply_to_status_id  reply_to_user_id  \\\n",
       "count  1.460701e+07  1.460701e+07        1.745080e+06      2.111183e+06   \n",
       "mean   1.249520e+18  3.368818e+17        1.248857e+18      2.328203e+17   \n",
       "std    3.504127e+15  4.959153e+17        1.523071e+16      4.331340e+17   \n",
       "min    1.244052e+18  1.200000e+01        2.000000e+01      1.200000e+01   \n",
       "25%    1.246356e+18  1.673920e+08        1.246142e+18      5.098209e+07   \n",
       "50%    1.249251e+18  1.248759e+09        1.249004e+18      3.632403e+08   \n",
       "75%    1.252542e+18  8.758339e+17        1.252294e+18      3.502392e+09   \n",
       "max    1.256010e+18  1.256007e+18        1.256010e+18      1.255996e+18   \n",
       "\n",
       "       favourites_count  retweet_count  followers_count  friends_count  \\\n",
       "count      1.460701e+07   1.460701e+07     1.460701e+07   1.460701e+07   \n",
       "mean       1.174802e+04   3.580968e+00     6.501909e+04   2.048379e+03   \n",
       "std        3.962682e+04   6.731740e+01     5.543002e+05   1.111902e+04   \n",
       "min        0.000000e+00   0.000000e+00     0.000000e+00   0.000000e+00   \n",
       "25%        2.110000e+02   0.000000e+00     1.490000e+02   1.510000e+02   \n",
       "50%        1.550000e+03   0.000000e+00     8.650000e+02   5.040000e+02   \n",
       "75%        7.645000e+03   1.000000e+00     4.783000e+03   1.449000e+03   \n",
       "max        1.995152e+06   5.132900e+04     8.374142e+07   2.129084e+06   \n",
       "\n",
       "       account_lang  \n",
       "count           0.0  \n",
       "mean            NaN  \n",
       "std             NaN  \n",
       "min             NaN  \n",
       "25%             NaN  \n",
       "50%             NaN  \n",
       "75%             NaN  \n",
       "max             NaN  "
      ]
     },
     "execution_count": 7,
     "metadata": {},
     "output_type": "execute_result"
    }
   ],
   "source": [
    "# Use the describe function to gain an understanding of numerical columns in the dataframe\n",
    "complete_df.describe()"
   ]
  },
  {
   "cell_type": "markdown",
   "metadata": {},
   "source": [
    "When using the `.describe()` method one has to be careful because it gives the statistical summary of all numeric columns, whether it makes sense or not. In the case above, there are statistics associated with the `status_id`, `user_id` columns even though they are just codes. This is also the case with `reply_to_status_id` and `reply_to_user_id` columns as they give the identification number for the Tweet being replied to and the identification number of the user who generated the Tweet respectively. Furthermore, it has already been confirmed earlier that the `account_lang` column is completely null. Therefore all of these columns can be ignored in terms of summary statistic analysis. \n",
    "\n",
    "For the remaining relevant columns, the analysis of the summary statistics is given below.\n",
    "\n",
    "The `favourites_count` column shows that on average the Tweets get ~11,748 'likes', however a median (50th percentile) of just 1550 indicates that the mean value is likely affected by either outliers that contain very high 'like' counts or a long tail towards high 'like' counts.\n",
    "\n",
    "The `retweet_count` column shows that on average the Tweets are retweeted ~3.5 times. The median of 0 associated with this column verifies that retweets are uncommon.\n",
    "\n",
    "The `followers_count` column shows that on average the accounts associated with the Tweets have ~65,019 'followers'. However a median of just 865 indicates that the mean value is likely affected by either outliers of users with very high number of 'followers' or a long tail towards high 'follower' counts. This is confirmed by the max 'follower' count of 83,741,420 in the dataframe.\n",
    "\n",
    "The `friends_count` column shows that on average the account associated with the Tweet, follows ~2,048 other accounts. A median of 504 indicates that the mean value is likely close to accurate and is not affected by too many outliers. However, the max is still very high at 2,129,084.\n",
    "\n",
    "\n",
    "Now the above information can be used to clean the data in the next section.\n",
    "\n",
    "\n",
    "## Cleaning the Data <a id=\"2\"></a>\n",
    "\n",
    "The whole cleaning process is key to the data science workflow as it can ensure that the quality of the input data is up to par. We will be removing duplicates and null values as well as columns which are not relevant for the analysis. After all, we are familiar with the old adage \"Garbage in, garbage out\" and that's what we're avoiding. \n",
    "\n",
    "\n",
    "### Duplicate Rows\n",
    "The data cleaning will start by checking for any duplicate rows in the dataset.   "
   ]
  },
  {
   "cell_type": "code",
   "execution_count": 8,
   "metadata": {},
   "outputs": [
    {
     "data": {
      "text/plain": [
       "672"
      ]
     },
     "execution_count": 8,
     "metadata": {},
     "output_type": "execute_result"
    }
   ],
   "source": [
    "# Looking at the total number of duplicated rows\n",
    "complete_df.duplicated().sum()"
   ]
  },
  {
   "cell_type": "markdown",
   "metadata": {},
   "source": [
    "The result indicates that the dataset contains 672 duplicated rows. It is almost assured that these are genuine duplicates as there is a huge variability in information for each row of data. However, it can be ensured by checking one of the indexes for the duplicated rows below. "
   ]
  },
  {
   "cell_type": "code",
   "execution_count": 9,
   "metadata": {},
   "outputs": [
    {
     "data": {
      "text/plain": [
       "Int64Index([     159,    20417,    20426,    49713,    55552,    55553,\n",
       "               61753,   102944,   112413,   154198,\n",
       "            ...\n",
       "            14452547, 14492549, 14492550, 14519585, 14527388, 14550650,\n",
       "            14572342, 14584642, 14586300, 14605346],\n",
       "           dtype='int64', length=672)"
      ]
     },
     "execution_count": 9,
     "metadata": {},
     "output_type": "execute_result"
    }
   ],
   "source": [
    "# generating the variable which contains the index of the duplicated rows\n",
    "duplicated = complete_df[complete_df.duplicated()].index\n",
    "duplicated"
   ]
  },
  {
   "cell_type": "markdown",
   "metadata": {},
   "source": [
    "The first index value is picked from above and the rows around it checked to ensure that the duplicates are being picked correctly."
   ]
  },
  {
   "cell_type": "code",
   "execution_count": 10,
   "metadata": {},
   "outputs": [
    {
     "data": {
      "text/html": [
       "<div>\n",
       "<style scoped>\n",
       "    .dataframe tbody tr th:only-of-type {\n",
       "        vertical-align: middle;\n",
       "    }\n",
       "\n",
       "    .dataframe tbody tr th {\n",
       "        vertical-align: top;\n",
       "    }\n",
       "\n",
       "    .dataframe thead th {\n",
       "        text-align: right;\n",
       "    }\n",
       "</style>\n",
       "<table border=\"1\" class=\"dataframe\">\n",
       "  <thead>\n",
       "    <tr style=\"text-align: right;\">\n",
       "      <th></th>\n",
       "      <th>status_id</th>\n",
       "      <th>user_id</th>\n",
       "      <th>created_at</th>\n",
       "      <th>screen_name</th>\n",
       "      <th>text</th>\n",
       "      <th>source</th>\n",
       "      <th>reply_to_status_id</th>\n",
       "      <th>reply_to_user_id</th>\n",
       "      <th>reply_to_screen_name</th>\n",
       "      <th>is_quote</th>\n",
       "      <th>...</th>\n",
       "      <th>retweet_count</th>\n",
       "      <th>country_code</th>\n",
       "      <th>place_full_name</th>\n",
       "      <th>place_type</th>\n",
       "      <th>followers_count</th>\n",
       "      <th>friends_count</th>\n",
       "      <th>account_lang</th>\n",
       "      <th>account_created_at</th>\n",
       "      <th>verified</th>\n",
       "      <th>lang</th>\n",
       "    </tr>\n",
       "  </thead>\n",
       "  <tbody>\n",
       "    <tr>\n",
       "      <th>150</th>\n",
       "      <td>1244051669362438144</td>\n",
       "      <td>273842391</td>\n",
       "      <td>2020-03-29T00:00:05Z</td>\n",
       "      <td>2536luis</td>\n",
       "      <td>(Opinion) Covid-19 will change us as a species ••• 🌏🌍🌎 \\n#CoronavirusOutbreak  #COVID19\\n#coronavirus  https://t.co/o3lC2ha2KY</td>\n",
       "      <td>Twitter for iPhone</td>\n",
       "      <td>NaN</td>\n",
       "      <td>NaN</td>\n",
       "      <td>NaN</td>\n",
       "      <td>False</td>\n",
       "      <td>...</td>\n",
       "      <td>0</td>\n",
       "      <td>NaN</td>\n",
       "      <td>NaN</td>\n",
       "      <td>NaN</td>\n",
       "      <td>4140</td>\n",
       "      <td>3754</td>\n",
       "      <td>NaN</td>\n",
       "      <td>2011-03-29T08:13:28Z</td>\n",
       "      <td>False</td>\n",
       "      <td>en</td>\n",
       "    </tr>\n",
       "    <tr>\n",
       "      <th>151</th>\n",
       "      <td>1244051668280446977</td>\n",
       "      <td>608235166</td>\n",
       "      <td>2020-03-29T00:00:05Z</td>\n",
       "      <td>1055WDUV</td>\n",
       "      <td>Keep ordering takeout and keep local business open - but be safe.\\n\\n#WDUV #DoveNews #OpeninTampaBay #takeout #foodsafety #FDA #stopthespread #saferathome #washyourhands #covid19 #coronavirus #vir...</td>\n",
       "      <td>SocialNewsDesk</td>\n",
       "      <td>NaN</td>\n",
       "      <td>NaN</td>\n",
       "      <td>NaN</td>\n",
       "      <td>False</td>\n",
       "      <td>...</td>\n",
       "      <td>0</td>\n",
       "      <td>NaN</td>\n",
       "      <td>NaN</td>\n",
       "      <td>NaN</td>\n",
       "      <td>2895</td>\n",
       "      <td>4592</td>\n",
       "      <td>NaN</td>\n",
       "      <td>2012-06-14T15:23:54Z</td>\n",
       "      <td>True</td>\n",
       "      <td>en</td>\n",
       "    </tr>\n",
       "    <tr>\n",
       "      <th>152</th>\n",
       "      <td>1244051668867506176</td>\n",
       "      <td>1208463505654812672</td>\n",
       "      <td>2020-03-29T00:00:05Z</td>\n",
       "      <td>5Krunner1972</td>\n",
       "      <td>#Covid_19 #Coronavirustruth #TrumpGenocide #WorstPresidentEver # https://t.co/31y7Rqp6cz</td>\n",
       "      <td>Twitter for iPhone</td>\n",
       "      <td>NaN</td>\n",
       "      <td>NaN</td>\n",
       "      <td>NaN</td>\n",
       "      <td>True</td>\n",
       "      <td>...</td>\n",
       "      <td>0</td>\n",
       "      <td>NaN</td>\n",
       "      <td>NaN</td>\n",
       "      <td>NaN</td>\n",
       "      <td>49</td>\n",
       "      <td>372</td>\n",
       "      <td>NaN</td>\n",
       "      <td>2019-12-21T19:06:16Z</td>\n",
       "      <td>False</td>\n",
       "      <td>und</td>\n",
       "    </tr>\n",
       "    <tr>\n",
       "      <th>153</th>\n",
       "      <td>1244051668699951106</td>\n",
       "      <td>880962856467877888</td>\n",
       "      <td>2020-03-29T00:00:05Z</td>\n",
       "      <td>ScienceNerdSam</td>\n",
       "      <td>💔 The measures we take to stay safe during this #Covid_19 pandemic is not about you. It’s not about taking your freedoms. It’s not a set-up. It’s not a form of population control. #COVIDIOT https:...</td>\n",
       "      <td>Twitter for iPad</td>\n",
       "      <td>NaN</td>\n",
       "      <td>NaN</td>\n",
       "      <td>NaN</td>\n",
       "      <td>True</td>\n",
       "      <td>...</td>\n",
       "      <td>1</td>\n",
       "      <td>NaN</td>\n",
       "      <td>NaN</td>\n",
       "      <td>NaN</td>\n",
       "      <td>645</td>\n",
       "      <td>674</td>\n",
       "      <td>NaN</td>\n",
       "      <td>2017-07-01T01:34:47Z</td>\n",
       "      <td>False</td>\n",
       "      <td>en</td>\n",
       "    </tr>\n",
       "    <tr>\n",
       "      <th>154</th>\n",
       "      <td>1244051665642192896</td>\n",
       "      <td>3064266184</td>\n",
       "      <td>2020-03-29T00:00:05Z</td>\n",
       "      <td>techjunkiejh</td>\n",
       "      <td>Doors slam shut across borderless Europe as #coronavirus spreads https://t.co/laCNjh2Eay #CoronaVtj https://t.co/sSfYQNoMQA</td>\n",
       "      <td>Buffer</td>\n",
       "      <td>NaN</td>\n",
       "      <td>NaN</td>\n",
       "      <td>NaN</td>\n",
       "      <td>False</td>\n",
       "      <td>...</td>\n",
       "      <td>0</td>\n",
       "      <td>NaN</td>\n",
       "      <td>NaN</td>\n",
       "      <td>NaN</td>\n",
       "      <td>28982</td>\n",
       "      <td>25081</td>\n",
       "      <td>NaN</td>\n",
       "      <td>2015-02-27T00:58:22Z</td>\n",
       "      <td>False</td>\n",
       "      <td>en</td>\n",
       "    </tr>\n",
       "    <tr>\n",
       "      <th>155</th>\n",
       "      <td>1244051665449357313</td>\n",
       "      <td>81081065</td>\n",
       "      <td>2020-03-29T00:00:05Z</td>\n",
       "      <td>cronicaglobal</td>\n",
       "      <td>Domingo de #PensamientoPolítico en @LetraGlobal. @mmcias explica en un estupendo análisis los motivos por los que esta crisis del #coronavirus supone el ocaso de Occidente y sus libertades en favo...</td>\n",
       "      <td>Comitium5 BAB</td>\n",
       "      <td>NaN</td>\n",
       "      <td>NaN</td>\n",
       "      <td>NaN</td>\n",
       "      <td>False</td>\n",
       "      <td>...</td>\n",
       "      <td>4</td>\n",
       "      <td>NaN</td>\n",
       "      <td>NaN</td>\n",
       "      <td>NaN</td>\n",
       "      <td>36603</td>\n",
       "      <td>7453</td>\n",
       "      <td>NaN</td>\n",
       "      <td>2009-10-09T10:52:57Z</td>\n",
       "      <td>True</td>\n",
       "      <td>es</td>\n",
       "    </tr>\n",
       "    <tr>\n",
       "      <th>156</th>\n",
       "      <td>1244051669064744962</td>\n",
       "      <td>579624080</td>\n",
       "      <td>2020-03-29T00:00:05Z</td>\n",
       "      <td>RadioInfluence</td>\n",
       "      <td>On the latest #DarkToLight, @PoliticalOrgy &amp;amp; @tracybeanz of @UncoverDC discuss the Stimulus package &amp;amp; also what benefit this has for the American people, listen to some TRUTH coming out fr...</td>\n",
       "      <td>Hootsuite Inc.</td>\n",
       "      <td>NaN</td>\n",
       "      <td>NaN</td>\n",
       "      <td>NaN</td>\n",
       "      <td>False</td>\n",
       "      <td>...</td>\n",
       "      <td>7</td>\n",
       "      <td>NaN</td>\n",
       "      <td>NaN</td>\n",
       "      <td>NaN</td>\n",
       "      <td>22536</td>\n",
       "      <td>59</td>\n",
       "      <td>NaN</td>\n",
       "      <td>2012-05-14T06:53:30Z</td>\n",
       "      <td>False</td>\n",
       "      <td>en</td>\n",
       "    </tr>\n",
       "    <tr>\n",
       "      <th>157</th>\n",
       "      <td>1244051666623762432</td>\n",
       "      <td>152142811</td>\n",
       "      <td>2020-03-29T00:00:05Z</td>\n",
       "      <td>TelemundoNews</td>\n",
       "      <td>En época de pandemia, los empleados temporales que sí han podido venir están improvisando medidas caseras para protegerse del #coronavirus ante la inacción de sus empleadores.\\n\\nhttps://t.co/frFK...</td>\n",
       "      <td>SocialFlow</td>\n",
       "      <td>NaN</td>\n",
       "      <td>NaN</td>\n",
       "      <td>NaN</td>\n",
       "      <td>False</td>\n",
       "      <td>...</td>\n",
       "      <td>10</td>\n",
       "      <td>NaN</td>\n",
       "      <td>NaN</td>\n",
       "      <td>NaN</td>\n",
       "      <td>758786</td>\n",
       "      <td>908</td>\n",
       "      <td>NaN</td>\n",
       "      <td>2010-06-05T05:22:50Z</td>\n",
       "      <td>True</td>\n",
       "      <td>es</td>\n",
       "    </tr>\n",
       "    <tr>\n",
       "      <th>158</th>\n",
       "      <td>1244051666623762432</td>\n",
       "      <td>152142811</td>\n",
       "      <td>2020-03-29T00:00:05Z</td>\n",
       "      <td>TelemundoNews</td>\n",
       "      <td>En época de pandemia, los empleados temporales que sí han podido venir están improvisando medidas caseras para protegerse del #coronavirus ante la inacción de sus empleadores.\\n\\nhttps://t.co/frFK...</td>\n",
       "      <td>SocialFlow</td>\n",
       "      <td>NaN</td>\n",
       "      <td>NaN</td>\n",
       "      <td>NaN</td>\n",
       "      <td>False</td>\n",
       "      <td>...</td>\n",
       "      <td>10</td>\n",
       "      <td>NaN</td>\n",
       "      <td>NaN</td>\n",
       "      <td>NaN</td>\n",
       "      <td>758810</td>\n",
       "      <td>908</td>\n",
       "      <td>NaN</td>\n",
       "      <td>2010-06-05T05:22:50Z</td>\n",
       "      <td>True</td>\n",
       "      <td>es</td>\n",
       "    </tr>\n",
       "    <tr>\n",
       "      <th>159</th>\n",
       "      <td>1244051665642192896</td>\n",
       "      <td>3064266184</td>\n",
       "      <td>2020-03-29T00:00:05Z</td>\n",
       "      <td>techjunkiejh</td>\n",
       "      <td>Doors slam shut across borderless Europe as #coronavirus spreads https://t.co/laCNjh2Eay #CoronaVtj https://t.co/sSfYQNoMQA</td>\n",
       "      <td>Buffer</td>\n",
       "      <td>NaN</td>\n",
       "      <td>NaN</td>\n",
       "      <td>NaN</td>\n",
       "      <td>False</td>\n",
       "      <td>...</td>\n",
       "      <td>0</td>\n",
       "      <td>NaN</td>\n",
       "      <td>NaN</td>\n",
       "      <td>NaN</td>\n",
       "      <td>28982</td>\n",
       "      <td>25081</td>\n",
       "      <td>NaN</td>\n",
       "      <td>2015-02-27T00:58:22Z</td>\n",
       "      <td>False</td>\n",
       "      <td>en</td>\n",
       "    </tr>\n",
       "    <tr>\n",
       "      <th>160</th>\n",
       "      <td>1244051665449357313</td>\n",
       "      <td>81081065</td>\n",
       "      <td>2020-03-29T00:00:05Z</td>\n",
       "      <td>cronicaglobal</td>\n",
       "      <td>Domingo de #PensamientoPolítico en @LetraGlobal. @mmcias explica en un estupendo análisis los motivos por los que esta crisis del #coronavirus supone el ocaso de Occidente y sus libertades en favo...</td>\n",
       "      <td>Comitium5 BAB</td>\n",
       "      <td>NaN</td>\n",
       "      <td>NaN</td>\n",
       "      <td>NaN</td>\n",
       "      <td>False</td>\n",
       "      <td>...</td>\n",
       "      <td>4</td>\n",
       "      <td>NaN</td>\n",
       "      <td>NaN</td>\n",
       "      <td>NaN</td>\n",
       "      <td>36605</td>\n",
       "      <td>7453</td>\n",
       "      <td>NaN</td>\n",
       "      <td>2009-10-09T10:52:57Z</td>\n",
       "      <td>True</td>\n",
       "      <td>es</td>\n",
       "    </tr>\n",
       "  </tbody>\n",
       "</table>\n",
       "<p>11 rows × 22 columns</p>\n",
       "</div>"
      ],
      "text/plain": [
       "               status_id              user_id            created_at  \\\n",
       "150  1244051669362438144            273842391  2020-03-29T00:00:05Z   \n",
       "151  1244051668280446977            608235166  2020-03-29T00:00:05Z   \n",
       "152  1244051668867506176  1208463505654812672  2020-03-29T00:00:05Z   \n",
       "153  1244051668699951106   880962856467877888  2020-03-29T00:00:05Z   \n",
       "154  1244051665642192896           3064266184  2020-03-29T00:00:05Z   \n",
       "155  1244051665449357313             81081065  2020-03-29T00:00:05Z   \n",
       "156  1244051669064744962            579624080  2020-03-29T00:00:05Z   \n",
       "157  1244051666623762432            152142811  2020-03-29T00:00:05Z   \n",
       "158  1244051666623762432            152142811  2020-03-29T00:00:05Z   \n",
       "159  1244051665642192896           3064266184  2020-03-29T00:00:05Z   \n",
       "160  1244051665449357313             81081065  2020-03-29T00:00:05Z   \n",
       "\n",
       "        screen_name  \\\n",
       "150        2536luis   \n",
       "151        1055WDUV   \n",
       "152    5Krunner1972   \n",
       "153  ScienceNerdSam   \n",
       "154    techjunkiejh   \n",
       "155   cronicaglobal   \n",
       "156  RadioInfluence   \n",
       "157   TelemundoNews   \n",
       "158   TelemundoNews   \n",
       "159    techjunkiejh   \n",
       "160   cronicaglobal   \n",
       "\n",
       "                                                                                                                                                                                                        text  \\\n",
       "150                                                                           (Opinion) Covid-19 will change us as a species ••• 🌏🌍🌎 \\n#CoronavirusOutbreak  #COVID19\\n#coronavirus  https://t.co/o3lC2ha2KY   \n",
       "151  Keep ordering takeout and keep local business open - but be safe.\\n\\n#WDUV #DoveNews #OpeninTampaBay #takeout #foodsafety #FDA #stopthespread #saferathome #washyourhands #covid19 #coronavirus #vir...   \n",
       "152                                                                                                                 #Covid_19 #Coronavirustruth #TrumpGenocide #WorstPresidentEver # https://t.co/31y7Rqp6cz   \n",
       "153  💔 The measures we take to stay safe during this #Covid_19 pandemic is not about you. It’s not about taking your freedoms. It’s not a set-up. It’s not a form of population control. #COVIDIOT https:...   \n",
       "154                                                                              Doors slam shut across borderless Europe as #coronavirus spreads https://t.co/laCNjh2Eay #CoronaVtj https://t.co/sSfYQNoMQA   \n",
       "155  Domingo de #PensamientoPolítico en @LetraGlobal. @mmcias explica en un estupendo análisis los motivos por los que esta crisis del #coronavirus supone el ocaso de Occidente y sus libertades en favo...   \n",
       "156  On the latest #DarkToLight, @PoliticalOrgy &amp; @tracybeanz of @UncoverDC discuss the Stimulus package &amp; also what benefit this has for the American people, listen to some TRUTH coming out fr...   \n",
       "157  En época de pandemia, los empleados temporales que sí han podido venir están improvisando medidas caseras para protegerse del #coronavirus ante la inacción de sus empleadores.\\n\\nhttps://t.co/frFK...   \n",
       "158  En época de pandemia, los empleados temporales que sí han podido venir están improvisando medidas caseras para protegerse del #coronavirus ante la inacción de sus empleadores.\\n\\nhttps://t.co/frFK...   \n",
       "159                                                                              Doors slam shut across borderless Europe as #coronavirus spreads https://t.co/laCNjh2Eay #CoronaVtj https://t.co/sSfYQNoMQA   \n",
       "160  Domingo de #PensamientoPolítico en @LetraGlobal. @mmcias explica en un estupendo análisis los motivos por los que esta crisis del #coronavirus supone el ocaso de Occidente y sus libertades en favo...   \n",
       "\n",
       "                 source  reply_to_status_id  reply_to_user_id  \\\n",
       "150  Twitter for iPhone                 NaN               NaN   \n",
       "151      SocialNewsDesk                 NaN               NaN   \n",
       "152  Twitter for iPhone                 NaN               NaN   \n",
       "153    Twitter for iPad                 NaN               NaN   \n",
       "154              Buffer                 NaN               NaN   \n",
       "155       Comitium5 BAB                 NaN               NaN   \n",
       "156      Hootsuite Inc.                 NaN               NaN   \n",
       "157          SocialFlow                 NaN               NaN   \n",
       "158          SocialFlow                 NaN               NaN   \n",
       "159              Buffer                 NaN               NaN   \n",
       "160       Comitium5 BAB                 NaN               NaN   \n",
       "\n",
       "    reply_to_screen_name  is_quote  ...  retweet_count  country_code  \\\n",
       "150                  NaN     False  ...              0           NaN   \n",
       "151                  NaN     False  ...              0           NaN   \n",
       "152                  NaN      True  ...              0           NaN   \n",
       "153                  NaN      True  ...              1           NaN   \n",
       "154                  NaN     False  ...              0           NaN   \n",
       "155                  NaN     False  ...              4           NaN   \n",
       "156                  NaN     False  ...              7           NaN   \n",
       "157                  NaN     False  ...             10           NaN   \n",
       "158                  NaN     False  ...             10           NaN   \n",
       "159                  NaN     False  ...              0           NaN   \n",
       "160                  NaN     False  ...              4           NaN   \n",
       "\n",
       "     place_full_name place_type followers_count friends_count  account_lang  \\\n",
       "150              NaN        NaN            4140          3754           NaN   \n",
       "151              NaN        NaN            2895          4592           NaN   \n",
       "152              NaN        NaN              49           372           NaN   \n",
       "153              NaN        NaN             645           674           NaN   \n",
       "154              NaN        NaN           28982         25081           NaN   \n",
       "155              NaN        NaN           36603          7453           NaN   \n",
       "156              NaN        NaN           22536            59           NaN   \n",
       "157              NaN        NaN          758786           908           NaN   \n",
       "158              NaN        NaN          758810           908           NaN   \n",
       "159              NaN        NaN           28982         25081           NaN   \n",
       "160              NaN        NaN           36605          7453           NaN   \n",
       "\n",
       "       account_created_at  verified lang  \n",
       "150  2011-03-29T08:13:28Z     False   en  \n",
       "151  2012-06-14T15:23:54Z      True   en  \n",
       "152  2019-12-21T19:06:16Z     False  und  \n",
       "153  2017-07-01T01:34:47Z     False   en  \n",
       "154  2015-02-27T00:58:22Z     False   en  \n",
       "155  2009-10-09T10:52:57Z      True   es  \n",
       "156  2012-05-14T06:53:30Z     False   en  \n",
       "157  2010-06-05T05:22:50Z      True   es  \n",
       "158  2010-06-05T05:22:50Z      True   es  \n",
       "159  2015-02-27T00:58:22Z     False   en  \n",
       "160  2009-10-09T10:52:57Z      True   es  \n",
       "\n",
       "[11 rows x 22 columns]"
      ]
     },
     "execution_count": 10,
     "metadata": {},
     "output_type": "execute_result"
    }
   ],
   "source": [
    "# Using iloc to check the rows near the duplicated index\n",
    "complete_df.iloc[150:161,:]"
   ]
  },
  {
   "cell_type": "markdown",
   "metadata": {},
   "source": [
    "We can see the row 159 is a duplicate of row 154. However it is also obvious that row 160 is also a duplicate of row 155 and similarly 158 a duplicate of 157. However 160 and 158 are not present in the duplicated index values above. \n",
    "The duplicated method works by comparing all the columns in a row against the other rows, this means that the other rows are not present due to some difference in the other columns.\n",
    "\n",
    "Upon further examination we can see that the `followers_count` and `friends_count` columns seem to hold different values for the duplicated Tweet. However we know it's still a duplicated Tweet as the `status_id` column is the same. Therefore it's likely that the data was scraped 2 or more times, but between the scraping, the friends or 'followers' count changed. \n",
    "\n",
    "It would be better to look for duplicated Tweets using the `status_id` column as each Tweet has a unique identifier for that. This is done below.  "
   ]
  },
  {
   "cell_type": "code",
   "execution_count": 11,
   "metadata": {},
   "outputs": [
    {
     "data": {
      "text/plain": [
       "Int64Index([     158,      159,      160,    20417,    20426,    49713,\n",
       "               55552,    55553,    61753,   102944,\n",
       "            ...\n",
       "            14492549, 14492550, 14519585, 14527379, 14527388, 14550650,\n",
       "            14572342, 14584642, 14586300, 14605346],\n",
       "           dtype='int64', length=799)"
      ]
     },
     "execution_count": 11,
     "metadata": {},
     "output_type": "execute_result"
    }
   ],
   "source": [
    "# Checking index of duplicated rows based on status_id column alone \n",
    "complete_df[complete_df.duplicated(['status_id'])].index"
   ]
  },
  {
   "cell_type": "markdown",
   "metadata": {},
   "source": [
    "We can see that now the other indexes that we identified (158 and 160) are also present. Overall the number of duplicates based on Tweet `status_id` are 799. Let's drop these below and reset the index to ensure continuation."
   ]
  },
  {
   "cell_type": "code",
   "execution_count": 12,
   "metadata": {},
   "outputs": [],
   "source": [
    "# Removing duplicate rows and resetting the index of the dataframe\n",
    "complete_df = complete_df.drop_duplicates(subset = ['status_id']).reset_index(drop=True)"
   ]
  },
  {
   "cell_type": "markdown",
   "metadata": {},
   "source": [
    "Let's ensure that the duplicates are dropped by rechecking the duplicates below."
   ]
  },
  {
   "cell_type": "code",
   "execution_count": 13,
   "metadata": {},
   "outputs": [
    {
     "data": {
      "text/plain": [
       "Int64Index([], dtype='int64')"
      ]
     },
     "execution_count": 13,
     "metadata": {},
     "output_type": "execute_result"
    }
   ],
   "source": [
    "# Checking index of duplicated rows based on status_id column again to ensure all duplicates have been removed \n",
    "complete_df[complete_df.duplicated(['status_id'])].index"
   ]
  },
  {
   "cell_type": "markdown",
   "metadata": {},
   "source": [
    "As evidenced by the result above, the dataset doesn't contain any more duplicates. Now let's check the null data in order to clean it.\n",
    "\n",
    "### Null Data\n",
    "The first step will involve checking for the total null values for `complete_df`. "
   ]
  },
  {
   "cell_type": "code",
   "execution_count": 14,
   "metadata": {
    "scrolled": false
   },
   "outputs": [
    {
     "data": {
      "text/plain": [
       "status_id                      0\n",
       "user_id                        0\n",
       "created_at                     0\n",
       "screen_name                    2\n",
       "text                           0\n",
       "source                        83\n",
       "reply_to_status_id      12861242\n",
       "reply_to_user_id        12495162\n",
       "reply_to_screen_name    12495162\n",
       "is_quote                       0\n",
       "is_retweet                     0\n",
       "favourites_count               0\n",
       "retweet_count                  0\n",
       "country_code            13949529\n",
       "place_full_name         13946921\n",
       "place_type              13946921\n",
       "followers_count                0\n",
       "friends_count                  0\n",
       "account_lang            14606214\n",
       "account_created_at             0\n",
       "verified                       0\n",
       "lang                           0\n",
       "dtype: int64"
      ]
     },
     "execution_count": 14,
     "metadata": {},
     "output_type": "execute_result"
    }
   ],
   "source": [
    "# Displaying the sum of null rows in each column\n",
    "complete_df.isna().sum()"
   ]
  },
  {
   "cell_type": "markdown",
   "metadata": {},
   "source": [
    "Below, the values will be calculated in terms of percentages. This is because a column wise percentage gives a good representation of how much data is missing from each column. A function is defined, called `na_pct()`, to calculate these percentages as there are several steps later when this calculation is required. "
   ]
  },
  {
   "cell_type": "code",
   "execution_count": 15,
   "metadata": {},
   "outputs": [],
   "source": [
    "# Defining a function to take the sum of total null values for each column and dividing \n",
    "# it by the total number of rows in the column. \n",
    "# This is multiplied by 100 to turn the values into percentages and the output returned by the function.\n",
    "def na_pct(df):\n",
    "    \"\"\"\n",
    "    The function takes a dataframe and outputs the percent of null values per column. \n",
    "\n",
    "    \"\"\"\n",
    "    # testing that only dataframes are given as inputs\n",
    "    assert isinstance(df, pd.core.frame.DataFrame), \"Please input a dataframe as a parameter.\"   \n",
    "    \n",
    "    # Defining the nulls variable with the calculation\n",
    "    nulls = ((df.isnull().sum()/df.shape[0])*100)\n",
    "\n",
    "    # Returning the variable generated\n",
    "    return nulls"
   ]
  },
  {
   "cell_type": "markdown",
   "metadata": {},
   "source": [
    "Let's call the function below using our dataframe"
   ]
  },
  {
   "cell_type": "code",
   "execution_count": 16,
   "metadata": {
    "scrolled": true
   },
   "outputs": [
    {
     "data": {
      "text/plain": [
       "status_id                 0.000000\n",
       "user_id                   0.000000\n",
       "created_at                0.000000\n",
       "screen_name               0.000014\n",
       "text                      0.000000\n",
       "source                    0.000568\n",
       "reply_to_status_id       88.053222\n",
       "reply_to_user_id         85.546891\n",
       "reply_to_screen_name     85.546891\n",
       "is_quote                  0.000000\n",
       "is_retweet                0.000000\n",
       "favourites_count          0.000000\n",
       "retweet_count             0.000000\n",
       "country_code             95.504071\n",
       "place_full_name          95.486216\n",
       "place_type               95.486216\n",
       "followers_count           0.000000\n",
       "friends_count             0.000000\n",
       "account_lang            100.000000\n",
       "account_created_at        0.000000\n",
       "verified                  0.000000\n",
       "lang                      0.000000\n",
       "dtype: float64"
      ]
     },
     "execution_count": 16,
     "metadata": {},
     "output_type": "execute_result"
    }
   ],
   "source": [
    "# Calling the na_pct function on our dataframe \n",
    "na_pct(complete_df)"
   ]
  },
  {
   "cell_type": "markdown",
   "metadata": {},
   "source": [
    "As seen above, 9 columns out of the 22 contain missing values. Out of those, 7 columns contain over 85% missing values and cannot be imputed, hence the columns will have to be removed. \n",
    "It is normally considered acceptable to remove rows with missing values, if it affect less than 3% of the dataset, while assuming that the values are on mutually exclusive rows. The remaining 2 columns with less missing data, namely 'screen_name' and 'source', contain 0.000014% and 0.000568% missing values respectively. As this is less than 3%, we can safely remove the rows containing the missing data while cleaning in the next section of the report.\n",
    "\n",
    "The missing data needs to be 'cleaned' by either removing it or imputing it with reasonable values. \n",
    "\n",
    "The [exploration earlier](#7) shows that some columns contain really high null values and need to be removed as they won't add any value to the analysis. These columns are:\n",
    "- `reply_to_status_id`;\n",
    "- `reply_to_user_id`;\n",
    "- `reply_to_screen_name`;\n",
    "- `country_code`;\n",
    "- `place_full_name`;\n",
    "- `place_type`;\n",
    "- `account_lang`.\n",
    "\n",
    "These will be removed below from the original dataframe and the earlier equation used to identify the percentage of missing data per column in the final dataset. The `.drop()` function is used to drop the columns chosen, with the 'axis=1' parameter used to indicate that a column is being dropped rather than a row. The `na_pct()` function is used to verify that the columns have been dropped and to check which other columns need cleaning."
   ]
  },
  {
   "cell_type": "code",
   "execution_count": 17,
   "metadata": {},
   "outputs": [
    {
     "data": {
      "text/plain": [
       "status_id             0.000000\n",
       "user_id               0.000000\n",
       "created_at            0.000000\n",
       "screen_name           0.000014\n",
       "text                  0.000000\n",
       "source                0.000568\n",
       "is_quote              0.000000\n",
       "is_retweet            0.000000\n",
       "favourites_count      0.000000\n",
       "retweet_count         0.000000\n",
       "followers_count       0.000000\n",
       "friends_count         0.000000\n",
       "account_created_at    0.000000\n",
       "verified              0.000000\n",
       "lang                  0.000000\n",
       "dtype: float64"
      ]
     },
     "execution_count": 17,
     "metadata": {},
     "output_type": "execute_result"
    }
   ],
   "source": [
    "# Dropping the mentioned columns\n",
    "complete_df = complete_df.drop(['reply_to_status_id', 'reply_to_user_id', 'reply_to_screen_name',\n",
    "                                'country_code', 'place_full_name', 'place_type', 'account_lang'], axis=1)\n",
    "\n",
    "# Calling the na_pct function on our dataframe to check the updated results  \n",
    "na_pct(complete_df)"
   ]
  },
  {
   "cell_type": "markdown",
   "metadata": {},
   "source": [
    "As the columns are now successfully removed, the next step is to remove the rows with missing data in the `screen_name` and `source` columns. The `.dropna()` function is used to drop the rows with missing data, with the 'axis=0' parameter used to indicate that a row is being dropped rather than the column. The earlier function will be used again to calculate the percentage of missing data in each column."
   ]
  },
  {
   "cell_type": "code",
   "execution_count": 18,
   "metadata": {},
   "outputs": [
    {
     "data": {
      "text/plain": [
       "status_id             0.0\n",
       "user_id               0.0\n",
       "created_at            0.0\n",
       "screen_name           0.0\n",
       "text                  0.0\n",
       "source                0.0\n",
       "is_quote              0.0\n",
       "is_retweet            0.0\n",
       "favourites_count      0.0\n",
       "retweet_count         0.0\n",
       "followers_count       0.0\n",
       "friends_count         0.0\n",
       "account_created_at    0.0\n",
       "verified              0.0\n",
       "lang                  0.0\n",
       "dtype: float64"
      ]
     },
     "execution_count": 18,
     "metadata": {},
     "output_type": "execute_result"
    }
   ],
   "source": [
    "# Dropping the columns containing null values \n",
    "complete_df = complete_df.dropna(axis=0)\n",
    "\n",
    "# Calling the na_pct function on our dataframe to check the updated results  \n",
    "na_pct(complete_df)"
   ]
  },
  {
   "cell_type": "markdown",
   "metadata": {},
   "source": [
    "Above, it is confirmed that there are no more missing values in any of the columns, including `screen_name` and `source`.\n",
    "\n",
    "\n",
    "In the next step, only the columns relevant for the Exploratory Data Analysis will be kept. All the remaining will be dropped. The relevant columns chosen by the author are:\n",
    " - `created_at` : The date of the Tweet creation can assist in giving a temporal overview to the analysis;\n",
    " - `screen_name` : The screen name may come of use if an entity analysis is undertaken in the report;\n",
    " - `text` : The text is one of the most important features for the topic modeling on Twitter;\n",
    " - `is_retweet`: This may come in use for the EDA to find out how many Tweets are actually original compared to retweets;\n",
    " - `favourites_count`: This can help in finding out which Tweets are most liked by the users;\n",
    " - `retweet_count`: This column is another indication of which Tweets are being retweeted by others and are hence popular; \n",
    " - `followers_count`: Can be used in conjunction with favourites and 'followers' count to see whether these aspects bear a relationship to Tweets being famous;\n",
    " - `friends_count`: Can be used to check whether there is a relationship of Tweet popularity with number of accounts followed;\n",
    " - `verified`: Can assist in entity recognition if that analysis path is undertaken later;\n",
    " - `lang`: Can give a great overview of the distribution of languages being used which are talking about Covid-19.\n",
    " \n",
    " The reason for removing the other columns is given below:\n",
    " - `status_id` : Doesn't add value as no analysis on the Tweet ID is being conducted;\n",
    " - `user_id` : Doesn't add value as no analysis on the User ID is being conducted;\n",
    " - `source` : The source of the Tweet is of no relevance to the analysis;\n",
    " - `is_quote`: Whether the Tweet is a quote or not, bears no relevance to the analysis;\n",
    " - `account_created_at`: The account creation date of the author is not being analyzed in this report. \n",
    " \n",
    "\n",
    "Now the irrelevant columns will be removed and the dataframe checked to ensure the removal was successful. "
   ]
  },
  {
   "cell_type": "code",
   "execution_count": 19,
   "metadata": {},
   "outputs": [
    {
     "name": "stdout",
     "output_type": "stream",
     "text": [
      "<class 'pandas.core.frame.DataFrame'>\n",
      "Int64Index: 14606129 entries, 0 to 14606213\n",
      "Data columns (total 10 columns):\n",
      " #   Column            Dtype \n",
      "---  ------            ----- \n",
      " 0   created_at        object\n",
      " 1   screen_name       object\n",
      " 2   text              object\n",
      " 3   is_retweet        bool  \n",
      " 4   favourites_count  int64 \n",
      " 5   retweet_count     int64 \n",
      " 6   followers_count   int64 \n",
      " 7   friends_count     int64 \n",
      " 8   verified          bool  \n",
      " 9   lang              object\n",
      "dtypes: bool(2), int64(4), object(4)\n",
      "memory usage: 1.0+ GB\n"
     ]
    }
   ],
   "source": [
    "# Dropping the columns which are no longer required\n",
    "complete_df = complete_df.drop(['status_id', 'user_id', 'source', 'is_quote', 'account_created_at'], axis=1)\n",
    "\n",
    "# Checking the info for the remaining datafame\n",
    "complete_df.info()"
   ]
  },
  {
   "cell_type": "markdown",
   "metadata": {},
   "source": [
    "The last step for cleaning the data is converting the `created_at` column into a `datetime` type. \n",
    "The sample of the dataframe is displayed below to have a look at what the column currently contains."
   ]
  },
  {
   "cell_type": "code",
   "execution_count": 20,
   "metadata": {
    "scrolled": true
   },
   "outputs": [
    {
     "data": {
      "text/html": [
       "<div>\n",
       "<style scoped>\n",
       "    .dataframe tbody tr th:only-of-type {\n",
       "        vertical-align: middle;\n",
       "    }\n",
       "\n",
       "    .dataframe tbody tr th {\n",
       "        vertical-align: top;\n",
       "    }\n",
       "\n",
       "    .dataframe thead th {\n",
       "        text-align: right;\n",
       "    }\n",
       "</style>\n",
       "<table border=\"1\" class=\"dataframe\">\n",
       "  <thead>\n",
       "    <tr style=\"text-align: right;\">\n",
       "      <th></th>\n",
       "      <th>created_at</th>\n",
       "      <th>screen_name</th>\n",
       "      <th>text</th>\n",
       "      <th>is_retweet</th>\n",
       "      <th>favourites_count</th>\n",
       "      <th>retweet_count</th>\n",
       "      <th>followers_count</th>\n",
       "      <th>friends_count</th>\n",
       "      <th>verified</th>\n",
       "      <th>lang</th>\n",
       "    </tr>\n",
       "  </thead>\n",
       "  <tbody>\n",
       "    <tr>\n",
       "      <th>3847991</th>\n",
       "      <td>2020-04-04T16:56:47Z</td>\n",
       "      <td>denysergushkin</td>\n",
       "      <td>Nature rests from people during #coronavirus https://t.co/8ITom2pVWO</td>\n",
       "      <td>False</td>\n",
       "      <td>4900</td>\n",
       "      <td>0</td>\n",
       "      <td>826</td>\n",
       "      <td>1779</td>\n",
       "      <td>False</td>\n",
       "      <td>en</td>\n",
       "    </tr>\n",
       "    <tr>\n",
       "      <th>8547864</th>\n",
       "      <td>2020-04-15T19:35:01Z</td>\n",
       "      <td>RazaQur7</td>\n",
       "      <td>@thakursahab_20 @CMOGuj @PradipsinhGuj @vijayrupanibjp @AmitShah @SushantBSinha Arre yaar kaha mene support kiya hai unhe aur kaha gov ko blame kiya hai, simple hai, kuch bhi, In the End everyone ...</td>\n",
       "      <td>False</td>\n",
       "      <td>530</td>\n",
       "      <td>0</td>\n",
       "      <td>6</td>\n",
       "      <td>214</td>\n",
       "      <td>False</td>\n",
       "      <td>hi</td>\n",
       "    </tr>\n",
       "    <tr>\n",
       "      <th>4493974</th>\n",
       "      <td>2020-04-06T03:54:00Z</td>\n",
       "      <td>lasillarota</td>\n",
       "      <td>#LoMasLeido Spring breakers dan positivo a #coronavirus tras viajar a Los Cabos y a pesar de recomendaciones https://t.co/SfJ0kT1IU3</td>\n",
       "      <td>False</td>\n",
       "      <td>11749</td>\n",
       "      <td>19</td>\n",
       "      <td>404305</td>\n",
       "      <td>3663</td>\n",
       "      <td>True</td>\n",
       "      <td>es</td>\n",
       "    </tr>\n",
       "    <tr>\n",
       "      <th>296246</th>\n",
       "      <td>2020-03-29T15:22:35Z</td>\n",
       "      <td>doctorcma</td>\n",
       "      <td>Adani group donates 100 cr to PM Cares Fund\\n\\n#Covid19 https://t.co/SBk2EaAi5A</td>\n",
       "      <td>False</td>\n",
       "      <td>8290</td>\n",
       "      <td>0</td>\n",
       "      <td>209</td>\n",
       "      <td>538</td>\n",
       "      <td>False</td>\n",
       "      <td>en</td>\n",
       "    </tr>\n",
       "    <tr>\n",
       "      <th>6160367</th>\n",
       "      <td>2020-04-09T11:00:44Z</td>\n",
       "      <td>avpluma</td>\n",
       "      <td>🚑 Últimos datos sobre el #coronavirus: \\n\\nExtremadura registra 12 fallecidos en las últimas 24 horas. Así, se elevan a 283 los muertos en la región desde el inicio de la pandemia. Hay 89 nuevos p...</td>\n",
       "      <td>False</td>\n",
       "      <td>1252</td>\n",
       "      <td>0</td>\n",
       "      <td>6285</td>\n",
       "      <td>1187</td>\n",
       "      <td>False</td>\n",
       "      <td>es</td>\n",
       "    </tr>\n",
       "    <tr>\n",
       "      <th>1440414</th>\n",
       "      <td>2020-03-31T12:22:12Z</td>\n",
       "      <td>nilimnetz</td>\n",
       "      <td>Wer kümmert sich um gestrandete Menschen aus Deutschland mit Aufenthaltstitel? Das @AuswaertigesAmt oder sind sie auf sich selbst gestellt? Wir haben mal nachgeforscht. @KoehlerEva @ph_reporterpoo...</td>\n",
       "      <td>False</td>\n",
       "      <td>1191</td>\n",
       "      <td>8</td>\n",
       "      <td>406</td>\n",
       "      <td>1158</td>\n",
       "      <td>False</td>\n",
       "      <td>de</td>\n",
       "    </tr>\n",
       "    <tr>\n",
       "      <th>13828147</th>\n",
       "      <td>2020-04-28T21:46:45Z</td>\n",
       "      <td>WhiteSpir1t</td>\n",
       "      <td>@bennyjohnson Seems ironic for them that their own people are losing confidence of their communist propaganda lately. Now they’re sowing their seeds early starting with children. #CCPVirus #Corona...</td>\n",
       "      <td>False</td>\n",
       "      <td>78588</td>\n",
       "      <td>0</td>\n",
       "      <td>5689</td>\n",
       "      <td>6254</td>\n",
       "      <td>False</td>\n",
       "      <td>en</td>\n",
       "    </tr>\n",
       "    <tr>\n",
       "      <th>5039266</th>\n",
       "      <td>2020-04-07T01:02:02Z</td>\n",
       "      <td>sergiolinix</td>\n",
       "      <td>Sua Maestà in prima linea contro il #COVID19 https://t.co/haJgXAiw8d</td>\n",
       "      <td>False</td>\n",
       "      <td>32758</td>\n",
       "      <td>0</td>\n",
       "      <td>728</td>\n",
       "      <td>1114</td>\n",
       "      <td>False</td>\n",
       "      <td>it</td>\n",
       "    </tr>\n",
       "    <tr>\n",
       "      <th>4286389</th>\n",
       "      <td>2020-04-05T17:00:19Z</td>\n",
       "      <td>Sebasti01464362</td>\n",
       "      <td>Iglesia Catolica en Panamá no respeta la cuarentena ya ven porq el país centroamericano es el Numero uno percapita de enfermos y muertos por el #coronavirus @CNNEE @el_pais @Telemundo @MariaCelest...</td>\n",
       "      <td>False</td>\n",
       "      <td>1896</td>\n",
       "      <td>0</td>\n",
       "      <td>25</td>\n",
       "      <td>280</td>\n",
       "      <td>False</td>\n",
       "      <td>es</td>\n",
       "    </tr>\n",
       "    <tr>\n",
       "      <th>9481617</th>\n",
       "      <td>2020-04-17T15:09:17Z</td>\n",
       "      <td>TextingBase</td>\n",
       "      <td>#textingbase helping to save restaurants...order through text and pick up in your car safely #covi̇d19 https://t.co/xHn7eJKkCT</td>\n",
       "      <td>False</td>\n",
       "      <td>900</td>\n",
       "      <td>0</td>\n",
       "      <td>15307</td>\n",
       "      <td>13777</td>\n",
       "      <td>False</td>\n",
       "      <td>en</td>\n",
       "    </tr>\n",
       "  </tbody>\n",
       "</table>\n",
       "</div>"
      ],
      "text/plain": [
       "                    created_at      screen_name  \\\n",
       "3847991   2020-04-04T16:56:47Z   denysergushkin   \n",
       "8547864   2020-04-15T19:35:01Z         RazaQur7   \n",
       "4493974   2020-04-06T03:54:00Z      lasillarota   \n",
       "296246    2020-03-29T15:22:35Z        doctorcma   \n",
       "6160367   2020-04-09T11:00:44Z          avpluma   \n",
       "1440414   2020-03-31T12:22:12Z        nilimnetz   \n",
       "13828147  2020-04-28T21:46:45Z      WhiteSpir1t   \n",
       "5039266   2020-04-07T01:02:02Z      sergiolinix   \n",
       "4286389   2020-04-05T17:00:19Z  Sebasti01464362   \n",
       "9481617   2020-04-17T15:09:17Z      TextingBase   \n",
       "\n",
       "                                                                                                                                                                                                             text  \\\n",
       "3847991                                                                                                                                      Nature rests from people during #coronavirus https://t.co/8ITom2pVWO   \n",
       "8547864   @thakursahab_20 @CMOGuj @PradipsinhGuj @vijayrupanibjp @AmitShah @SushantBSinha Arre yaar kaha mene support kiya hai unhe aur kaha gov ko blame kiya hai, simple hai, kuch bhi, In the End everyone ...   \n",
       "4493974                                                                      #LoMasLeido Spring breakers dan positivo a #coronavirus tras viajar a Los Cabos y a pesar de recomendaciones https://t.co/SfJ0kT1IU3   \n",
       "296246                                                                                                                            Adani group donates 100 cr to PM Cares Fund\\n\\n#Covid19 https://t.co/SBk2EaAi5A   \n",
       "6160367   🚑 Últimos datos sobre el #coronavirus: \\n\\nExtremadura registra 12 fallecidos en las últimas 24 horas. Así, se elevan a 283 los muertos en la región desde el inicio de la pandemia. Hay 89 nuevos p...   \n",
       "1440414   Wer kümmert sich um gestrandete Menschen aus Deutschland mit Aufenthaltstitel? Das @AuswaertigesAmt oder sind sie auf sich selbst gestellt? Wir haben mal nachgeforscht. @KoehlerEva @ph_reporterpoo...   \n",
       "13828147  @bennyjohnson Seems ironic for them that their own people are losing confidence of their communist propaganda lately. Now they’re sowing their seeds early starting with children. #CCPVirus #Corona...   \n",
       "5039266                                                                                                                                      Sua Maestà in prima linea contro il #COVID19 https://t.co/haJgXAiw8d   \n",
       "4286389   Iglesia Catolica en Panamá no respeta la cuarentena ya ven porq el país centroamericano es el Numero uno percapita de enfermos y muertos por el #coronavirus @CNNEE @el_pais @Telemundo @MariaCelest...   \n",
       "9481617                                                                            #textingbase helping to save restaurants...order through text and pick up in your car safely #covi̇d19 https://t.co/xHn7eJKkCT   \n",
       "\n",
       "          is_retweet  favourites_count  retweet_count  followers_count  \\\n",
       "3847991        False              4900              0              826   \n",
       "8547864        False               530              0                6   \n",
       "4493974        False             11749             19           404305   \n",
       "296246         False              8290              0              209   \n",
       "6160367        False              1252              0             6285   \n",
       "1440414        False              1191              8              406   \n",
       "13828147       False             78588              0             5689   \n",
       "5039266        False             32758              0              728   \n",
       "4286389        False              1896              0               25   \n",
       "9481617        False               900              0            15307   \n",
       "\n",
       "          friends_count  verified lang  \n",
       "3847991            1779     False   en  \n",
       "8547864             214     False   hi  \n",
       "4493974            3663      True   es  \n",
       "296246              538     False   en  \n",
       "6160367            1187     False   es  \n",
       "1440414            1158     False   de  \n",
       "13828147           6254     False   en  \n",
       "5039266            1114     False   it  \n",
       "4286389             280     False   es  \n",
       "9481617           13777     False   en  "
      ]
     },
     "execution_count": 20,
     "metadata": {},
     "output_type": "execute_result"
    }
   ],
   "source": [
    "# Checking a sample of 10 rows from the dataset\n",
    "complete_df.sample(10)"
   ]
  },
  {
   "cell_type": "markdown",
   "metadata": {},
   "source": [
    "The dataframe above shows that the `created_at` column contains a string of date, followed by 'T' and a time in 24 hour format. The overall string ends in a 'Z'. The column will be converted into a datetime dtype using python's built-in function `to_datetime`. This will be checked by calling the `.info()` function."
   ]
  },
  {
   "cell_type": "code",
   "execution_count": 21,
   "metadata": {},
   "outputs": [
    {
     "name": "stdout",
     "output_type": "stream",
     "text": [
      "<class 'pandas.core.frame.DataFrame'>\n",
      "Int64Index: 14606129 entries, 0 to 14606213\n",
      "Data columns (total 10 columns):\n",
      " #   Column            Dtype              \n",
      "---  ------            -----              \n",
      " 0   created_at        datetime64[ns, UTC]\n",
      " 1   screen_name       object             \n",
      " 2   text              object             \n",
      " 3   is_retweet        bool               \n",
      " 4   favourites_count  int64              \n",
      " 5   retweet_count     int64              \n",
      " 6   followers_count   int64              \n",
      " 7   friends_count     int64              \n",
      " 8   verified          bool               \n",
      " 9   lang              object             \n",
      "dtypes: bool(2), datetime64[ns, UTC](1), int64(4), object(3)\n",
      "memory usage: 1.0+ GB\n"
     ]
    }
   ],
   "source": [
    "# Converting the column to datetime format\n",
    "complete_df[\"created_at\"] = pd.to_datetime(complete_df[\"created_at\"])\n",
    "\n",
    "# Checking the info method for dataframe to ensure the conversion\n",
    "complete_df.info()"
   ]
  },
  {
   "cell_type": "markdown",
   "metadata": {},
   "source": [
    "As can be seen above, the `created_at` column is in the `datetime` dtype. Now that all the dataset is clean and in the correct datatype, the dataset is ready for an EDA.\n",
    "\n",
    "\n",
    "## Exploratory Data Analysis  <a id=\"3\"></a>\n",
    "\n",
    "**Getting a Basic Understanding from the Cleaned Data**  \n",
    "After cleaning the data, we need to start understanding it. While there are some quantitative techniques for EDA, majority of the methods involve making graphical visualisations to understand the following: \n",
    "1. Any basic structures or trends in the data\n",
    "2. Important variables within the data\n",
    "3. Outliers and anomalies for numerical columns \n",
    "4. Obvious relationships between features of the dataset.\n",
    "\n",
    "The dependency on graphical EDA methods is because humans have an innate ability to gain insights from patterns. We utilize this pattern recognition ability to explore the entire dataset and shine a light on any subtle structural insights, which will likely be less obvious with numerical analysis alone. \n",
    "\n",
    "The dataset contains data from many different languages. The total number of languages in the dataset will be obtained using the code below where the number of unique languages are calculated in the `lang` column. "
   ]
  },
  {
   "cell_type": "code",
   "execution_count": 22,
   "metadata": {
    "scrolled": true
   },
   "outputs": [
    {
     "data": {
      "text/plain": [
       "66"
      ]
     },
     "execution_count": 22,
     "metadata": {},
     "output_type": "execute_result"
    }
   ],
   "source": [
    "# Checking the number of languages in the dataset\n",
    "len(complete_df.value_counts(\"lang\").unique())"
   ]
  },
  {
   "cell_type": "markdown",
   "metadata": {},
   "source": [
    "There are a total of 66 unique languages in the dataset. The distribution for the Tweet counts in each language is plotted below. "
   ]
  },
  {
   "cell_type": "code",
   "execution_count": 23,
   "metadata": {},
   "outputs": [
    {
     "data": {
      "image/png": "[encoded data removed]",
      "text/plain": [
       "<Figure size 1800x1080 with 1 Axes>"
      ]
     },
     "metadata": {
      "needs_background": "light"
     },
     "output_type": "display_data"
    }
   ],
   "source": [
    "# Instantiate the plot \n",
    "plt.figure(figsize=(25,15))\n",
    "\n",
    "# Plot the bar chart using lang column index and the counts of each index in the column\n",
    "plt.bar(x = complete_df.value_counts(\"lang\").index, height = complete_df.value_counts(\"lang\"))\n",
    "\n",
    "# Making the plot more comprohensive\n",
    "plt.title('Distribution of Tweets in Different Languages', size = 20)\n",
    "plt.ylabel(\"Count of Tweets (Millions)\", size = 15)\n",
    "plt.xlabel(\"Language Code\", size = 15)\n",
    "plt.yticks(size = 13)\n",
    "plt.xticks(rotation = 45, size = 15)\n",
    "\n",
    "plt.show()"
   ]
  },
  {
   "cell_type": "markdown",
   "metadata": {},
   "source": [
    "It is clear that the most prevalent Tweet language in the dataset is English. This is followed by Spanish and French, which even together make less than half of the English Tweet count. As this analysis involves Natural Language Processing, it is decided that only the English Tweets will be analyzed. The counts below specify that there are over 8 million English Tweets which will be utilized for the analysis. "
   ]
  },
  {
   "cell_type": "code",
   "execution_count": 24,
   "metadata": {
    "scrolled": true
   },
   "outputs": [
    {
     "data": {
      "text/plain": [
       "lang\n",
       "en     8133232\n",
       "es     2277747\n",
       "fr      833554\n",
       "und     727499\n",
       "it      421432\n",
       "        ...   \n",
       "ka          92\n",
       "lo          46\n",
       "km          39\n",
       "bo           7\n",
       "ug           5\n",
       "Length: 66, dtype: int64"
      ]
     },
     "execution_count": 24,
     "metadata": {},
     "output_type": "execute_result"
    }
   ],
   "source": [
    "# Calculating the count of Tweets in different languages\n",
    "complete_df.value_counts(\"lang\")"
   ]
  },
  {
   "cell_type": "markdown",
   "metadata": {},
   "source": [
    "A new dataframe is created below, which only contains the data for the English Tweets."
   ]
  },
  {
   "cell_type": "code",
   "execution_count": 25,
   "metadata": {},
   "outputs": [],
   "source": [
    "# Creating a dataframe with only the English Tweets\n",
    "df_eng = complete_df[complete_df['lang'] == 'en']"
   ]
  },
  {
   "cell_type": "markdown",
   "metadata": {},
   "source": [
    "As the rows for the data are selected based on the language, it is highly unlikely that the index of the new dataframe will be correct. Therefore the index for `df_eng` will be reset below."
   ]
  },
  {
   "cell_type": "code",
   "execution_count": 26,
   "metadata": {},
   "outputs": [],
   "source": [
    "# Doing an index reset on the new dataframe\n",
    "df_eng = df_eng.reset_index(drop=True)"
   ]
  },
  {
   "cell_type": "markdown",
   "metadata": {},
   "source": [
    "It is pertinent to check that the dataframe is generated correctly. As the data is a subset of a dataframe with no missing rows, this aspect of df_eng does not need to be checked. However, the structure and the successful implementation of a new index has to be checked using the `.info()` method below. "
   ]
  },
  {
   "cell_type": "code",
   "execution_count": 27,
   "metadata": {},
   "outputs": [
    {
     "name": "stdout",
     "output_type": "stream",
     "text": [
      "<class 'pandas.core.frame.DataFrame'>\n",
      "RangeIndex: 8133232 entries, 0 to 8133231\n",
      "Data columns (total 10 columns):\n",
      " #   Column            Dtype              \n",
      "---  ------            -----              \n",
      " 0   created_at        datetime64[ns, UTC]\n",
      " 1   screen_name       object             \n",
      " 2   text              object             \n",
      " 3   is_retweet        bool               \n",
      " 4   favourites_count  int64              \n",
      " 5   retweet_count     int64              \n",
      " 6   followers_count   int64              \n",
      " 7   friends_count     int64              \n",
      " 8   verified          bool               \n",
      " 9   lang              object             \n",
      "dtypes: bool(2), datetime64[ns, UTC](1), int64(4), object(3)\n",
      "memory usage: 511.9+ MB\n"
     ]
    }
   ],
   "source": [
    "# Checking the structure of the new dataframe using info()\n",
    "df_eng.info()"
   ]
  },
  {
   "cell_type": "markdown",
   "metadata": {},
   "source": [
    "It is confirmed that the dataset contains the correct information. There are 2 boolean, 1 datetime, 4 integer and 3 object columns. As all the Tweets are now in English, the `lang` column is redundant. Therefore it will be dropped."
   ]
  },
  {
   "cell_type": "code",
   "execution_count": 28,
   "metadata": {},
   "outputs": [],
   "source": [
    "# Dropping the Tweet language column from the dataframe \n",
    "df_eng = df_eng.drop(['lang'], axis=1)"
   ]
  },
  {
   "cell_type": "markdown",
   "metadata": {},
   "source": [
    "Below, it is confirmed that the `lang` column is successfully dropped as its not part of the column list in `df_eng`. "
   ]
  },
  {
   "cell_type": "code",
   "execution_count": 29,
   "metadata": {},
   "outputs": [
    {
     "data": {
      "text/plain": [
       "Index(['created_at', 'screen_name', 'text', 'is_retweet', 'favourites_count',\n",
       "       'retweet_count', 'followers_count', 'friends_count', 'verified'],\n",
       "      dtype='object')"
      ]
     },
     "execution_count": 29,
     "metadata": {},
     "output_type": "execute_result"
    }
   ],
   "source": [
    "# Ensuring that only the relevant columns are remaining\n",
    "df_eng.columns"
   ]
  },
  {
   "cell_type": "markdown",
   "metadata": {},
   "source": [
    "Below, the `.describe()` function will be used to look at the various summary statistics for the `df_eng` dataset. These statistics can give a wholistic view of what's contained in each column. "
   ]
  },
  {
   "cell_type": "code",
   "execution_count": 30,
   "metadata": {},
   "outputs": [
    {
     "data": {
      "text/html": [
       "<div>\n",
       "<style scoped>\n",
       "    .dataframe tbody tr th:only-of-type {\n",
       "        vertical-align: middle;\n",
       "    }\n",
       "\n",
       "    .dataframe tbody tr th {\n",
       "        vertical-align: top;\n",
       "    }\n",
       "\n",
       "    .dataframe thead th {\n",
       "        text-align: right;\n",
       "    }\n",
       "</style>\n",
       "<table border=\"1\" class=\"dataframe\">\n",
       "  <thead>\n",
       "    <tr style=\"text-align: right;\">\n",
       "      <th></th>\n",
       "      <th>favourites_count</th>\n",
       "      <th>retweet_count</th>\n",
       "      <th>followers_count</th>\n",
       "      <th>friends_count</th>\n",
       "    </tr>\n",
       "  </thead>\n",
       "  <tbody>\n",
       "    <tr>\n",
       "      <th>count</th>\n",
       "      <td>8.133232e+06</td>\n",
       "      <td>8.133232e+06</td>\n",
       "      <td>8.133232e+06</td>\n",
       "      <td>8.133232e+06</td>\n",
       "    </tr>\n",
       "    <tr>\n",
       "      <th>mean</th>\n",
       "      <td>1.295832e+04</td>\n",
       "      <td>3.366869e+00</td>\n",
       "      <td>6.422953e+04</td>\n",
       "      <td>2.328850e+03</td>\n",
       "    </tr>\n",
       "    <tr>\n",
       "      <th>std</th>\n",
       "      <td>3.914671e+04</td>\n",
       "      <td>7.013224e+01</td>\n",
       "      <td>6.230024e+05</td>\n",
       "      <td>1.231287e+04</td>\n",
       "    </tr>\n",
       "    <tr>\n",
       "      <th>min</th>\n",
       "      <td>0.000000e+00</td>\n",
       "      <td>0.000000e+00</td>\n",
       "      <td>0.000000e+00</td>\n",
       "      <td>0.000000e+00</td>\n",
       "    </tr>\n",
       "    <tr>\n",
       "      <th>25%</th>\n",
       "      <td>2.640000e+02</td>\n",
       "      <td>0.000000e+00</td>\n",
       "      <td>1.520000e+02</td>\n",
       "      <td>1.700000e+02</td>\n",
       "    </tr>\n",
       "    <tr>\n",
       "      <th>50%</th>\n",
       "      <td>1.843000e+03</td>\n",
       "      <td>0.000000e+00</td>\n",
       "      <td>8.460000e+02</td>\n",
       "      <td>5.750000e+02</td>\n",
       "    </tr>\n",
       "    <tr>\n",
       "      <th>75%</th>\n",
       "      <td>8.874000e+03</td>\n",
       "      <td>1.000000e+00</td>\n",
       "      <td>4.226000e+03</td>\n",
       "      <td>1.704000e+03</td>\n",
       "    </tr>\n",
       "    <tr>\n",
       "      <th>max</th>\n",
       "      <td>1.995152e+06</td>\n",
       "      <td>3.440700e+04</td>\n",
       "      <td>8.374142e+07</td>\n",
       "      <td>1.599416e+06</td>\n",
       "    </tr>\n",
       "  </tbody>\n",
       "</table>\n",
       "</div>"
      ],
      "text/plain": [
       "       favourites_count  retweet_count  followers_count  friends_count\n",
       "count      8.133232e+06   8.133232e+06     8.133232e+06   8.133232e+06\n",
       "mean       1.295832e+04   3.366869e+00     6.422953e+04   2.328850e+03\n",
       "std        3.914671e+04   7.013224e+01     6.230024e+05   1.231287e+04\n",
       "min        0.000000e+00   0.000000e+00     0.000000e+00   0.000000e+00\n",
       "25%        2.640000e+02   0.000000e+00     1.520000e+02   1.700000e+02\n",
       "50%        1.843000e+03   0.000000e+00     8.460000e+02   5.750000e+02\n",
       "75%        8.874000e+03   1.000000e+00     4.226000e+03   1.704000e+03\n",
       "max        1.995152e+06   3.440700e+04     8.374142e+07   1.599416e+06"
      ]
     },
     "execution_count": 30,
     "metadata": {},
     "output_type": "execute_result"
    }
   ],
   "source": [
    "# Checking the summary statistics of the dataframe\n",
    "df_eng.describe()"
   ]
  },
  {
   "cell_type": "markdown",
   "metadata": {},
   "source": [
    "The above results will also be compared with the `complete_df` statistics that were [calculated earlier in the report](#8) \n",
    "\n",
    "1. The `favourites_count` column shows that on average the English Tweets get ~12,958 'likes', however a median (50th percentile) of just 1843 indicates that the mean value is likely affected by either outliers that contain very high 'like' counts or a long tail towards high 'like' counts.\n",
    "Compared with `complete_df` mean (11,748) and median (1,550), the `df_eng` values are higher, however not by too much. It is safe to say that the English Tweets receive more 'likes' than average.  \n",
    "\n",
    "\n",
    "2. The `retweet_count` column shows that on average the English Tweets are retweeted ~3.3 times. The median of 0 associated with this column verifies that retweets are uncommon. Compared to the `complete_df` mean of ~3.5, the `df_eng` values are lower. This means that on average English Tweets are retweeted less. However the difference is not very big.\n",
    "\n",
    "\n",
    "3. The `followers_count` column shows that on average the accounts associated with the Tweets have ~64,229 'followers'. However a median of just 846 indicates that the mean value is likely affected by either outliers of users with very high number of 'followers' or a long tail towards high 'follower' counts. This is confirmed by the max 'follower' count of 83,741,420 in the dataframe. Compared to the `complete_df` mean of ~65,019, the `df_eng` values are lower. This means that on average, the users who Tweet in English have fewer number of 'followers', though only marginally.\n",
    "\n",
    "\n",
    "4. The `friends_count` column shows that on average the account associated with the Tweet, follows ~2,328 other accounts. A median of 575 indicates that the mean value is likely close to accurate and is not affected by too many outliers. Compared to the `complete_df` mean of ~2,048, the `df_eng` values are higher, however not by too much. It is safe to say that the users who Tweet in English follow more accounts than average.\n",
    "\n",
    "\n",
    "### Generating a Manageable Subset Dataset  <a id=\"11\"></a>\n",
    "\n",
    "As the current dataset is too large to process, a smaller subset of the data will be chosen to work through the NLP project. To choose a fair temporal representation of the overall data, every 100th index value of `df_eng` will be taken to generate the `analysis_df`."
   ]
  },
  {
   "cell_type": "code",
   "execution_count": 31,
   "metadata": {},
   "outputs": [],
   "source": [
    "# Choosing every 100th row based on the index for the new dataframe\n",
    "# The slicing method looks for row index values which are perfectly divisible by 100 and slices on that basis. \n",
    "analysis_df = df_eng[df_eng.index % 100 == 0]\n",
    "\n",
    "# Reset the index of the overwritten dataset\n",
    "analysis_df.reset_index(drop = True, inplace=True)"
   ]
  },
  {
   "cell_type": "markdown",
   "metadata": {},
   "source": [
    "Let's check the structure of `analysis_df` below. "
   ]
  },
  {
   "cell_type": "code",
   "execution_count": 32,
   "metadata": {},
   "outputs": [
    {
     "name": "stdout",
     "output_type": "stream",
     "text": [
      "<class 'pandas.core.frame.DataFrame'>\n",
      "RangeIndex: 81333 entries, 0 to 81332\n",
      "Data columns (total 9 columns):\n",
      " #   Column            Non-Null Count  Dtype              \n",
      "---  ------            --------------  -----              \n",
      " 0   created_at        81333 non-null  datetime64[ns, UTC]\n",
      " 1   screen_name       81333 non-null  object             \n",
      " 2   text              81333 non-null  object             \n",
      " 3   is_retweet        81333 non-null  bool               \n",
      " 4   favourites_count  81333 non-null  int64              \n",
      " 5   retweet_count     81333 non-null  int64              \n",
      " 6   followers_count   81333 non-null  int64              \n",
      " 7   friends_count     81333 non-null  int64              \n",
      " 8   verified          81333 non-null  bool               \n",
      "dtypes: bool(2), datetime64[ns, UTC](1), int64(4), object(2)\n",
      "memory usage: 4.5+ MB\n"
     ]
    }
   ],
   "source": [
    "# Checking the structure of the new dataframe using info()\n",
    "analysis_df.info()"
   ]
  },
  {
   "cell_type": "markdown",
   "metadata": {},
   "source": [
    "As we can see, the ~8.1 million row dataset is now ~81,000 rows.  The index values also seem to be correctly reset and all 9 columns are present. \n",
    "Let's output this as a csv file so it can be loaded in the next part of the report where the data will be preprocessed. "
   ]
  },
  {
   "cell_type": "code",
   "execution_count": 33,
   "metadata": {},
   "outputs": [],
   "source": [
    "# Exporting the dataframe as a csv \n",
    "# Please change the directory name to your directory followed by 'Chitransh_Shreyas_Capstone\\2_Tweet_Exploratory_Data_Analysis\\data\\ analysis_df.csv'\n",
    "analysis_df.to_csv(r'C:\\Users\\shch9\\Documents\\Courses\\Brainstation\\Capstone\\Project\\Chitransh_Shreyas_Capstone\\data\\analysis_df.csv')"
   ]
  },
  {
   "cell_type": "markdown",
   "metadata": {},
   "source": [
    "## Data Loading, Cleaning and Exploratory Data Analysis Conclusion\n",
    "\n",
    "In this section all the data was imported. The original dataframe contained over 14 million rows and 22 columns. The data was explored to and a [Data Dictionary](#10) created to understand what each of the columns contained. Some [statistical exploration](#8) was done which assisted identifying the trends behind Tweet propogation as well as columns with high null values. The data was then [cleaned](#2) by removing duplicate rows as well as columns and rows with high null values. Finally, an [EDA](#3) was performed which assisted us in making a more manageable [subset dataset](#11). \n",
    "\n",
    "The next parts of the report will have the Tweet text EDA (part 2), which will assist us in text preprocessing for building and enhancing the models in parts 3 and 4."
   ]
  },
  {
   "cell_type": "code",
   "execution_count": null,
   "metadata": {},
   "outputs": [],
   "source": []
  }
 ],
 "metadata": {
  "kernelspec": {
   "display_name": "Python 3 (ipykernel)",
   "language": "python",
   "name": "python3"
  },
  "language_info": {
   "codemirror_mode": {
    "name": "ipython",
    "version": 3
   },
   "file_extension": ".py",
   "mimetype": "text/x-python",
   "name": "python",
   "nbconvert_exporter": "python",
   "pygments_lexer": "ipython3",
   "version": "3.9.12"
  }
 },
 "nbformat": 4,
 "nbformat_minor": 4
}
